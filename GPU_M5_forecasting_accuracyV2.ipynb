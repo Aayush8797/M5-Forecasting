{
 "cells": [
  {
   "cell_type": "markdown",
   "metadata": {
    "colab_type": "text",
    "id": "xKndTXsMM2Fc"
   },
   "source": [
    "## Mounting Drive"
   ]
  },
  {
   "cell_type": "code",
   "execution_count": 1,
   "metadata": {
    "colab": {
     "base_uri": "https://localhost:8080/",
     "height": 34
    },
    "colab_type": "code",
    "id": "wrSCMTvhMp-x",
    "outputId": "cf144793-77cd-40f1-92fe-5e6f3db87e4d"
   },
   "outputs": [
    {
     "name": "stdout",
     "output_type": "stream",
     "text": [
      "Drive already mounted at /content/drive; to attempt to forcibly remount, call drive.mount(\"/content/drive\", force_remount=True).\n"
     ]
    }
   ],
   "source": [
    "from google.colab import drive\n",
    "drive.mount('/content/drive')"
   ]
  },
  {
   "cell_type": "code",
   "execution_count": 2,
   "metadata": {
    "colab": {
     "base_uri": "https://localhost:8080/",
     "height": 34
    },
    "colab_type": "code",
    "id": "jr_OJBC5M6LE",
    "outputId": "0769fd45-3f0b-4f11-a728-20fda292c7d6"
   },
   "outputs": [
    {
     "name": "stdout",
     "output_type": "stream",
     "text": [
      "/content/drive/My Drive/M5\n"
     ]
    }
   ],
   "source": [
    "%cd 'drive/My Drive/M5'"
   ]
  },
  {
   "cell_type": "markdown",
   "metadata": {
    "colab_type": "text",
    "id": "St4PrSEFLNQz"
   },
   "source": [
    "## Import statements"
   ]
  },
  {
   "cell_type": "code",
   "execution_count": 0,
   "metadata": {
    "colab": {},
    "colab_type": "code",
    "id": "Q44EvD7xLNQ3"
   },
   "outputs": [],
   "source": [
    "import pandas as pd\n",
    "from fbprophet import Prophet"
   ]
  },
  {
   "cell_type": "code",
   "execution_count": 0,
   "metadata": {
    "colab": {},
    "colab_type": "code",
    "id": "VzjAVDfocyPl"
   },
   "outputs": [],
   "source": [
    "file_name = \"sales_1\""
   ]
  },
  {
   "cell_type": "code",
   "execution_count": 0,
   "metadata": {
    "colab": {},
    "colab_type": "code",
    "id": "wKUoS3CMLNRG"
   },
   "outputs": [],
   "source": [
    "cal_df = pd.read_csv(\"calendar.csv\")"
   ]
  },
  {
   "cell_type": "code",
   "execution_count": 6,
   "metadata": {
    "colab": {
     "base_uri": "https://localhost:8080/",
     "height": 340
    },
    "colab_type": "code",
    "id": "7kalG08ULNRL",
    "outputId": "05e5d9f6-c191-4b9d-db5b-679060623228"
   },
   "outputs": [
    {
     "name": "stdout",
     "output_type": "stream",
     "text": [
      "<class 'pandas.core.frame.DataFrame'>\n",
      "RangeIndex: 1969 entries, 0 to 1968\n",
      "Data columns (total 14 columns):\n",
      "date            1969 non-null object\n",
      "wm_yr_wk        1969 non-null int64\n",
      "weekday         1969 non-null object\n",
      "wday            1969 non-null int64\n",
      "month           1969 non-null int64\n",
      "year            1969 non-null int64\n",
      "d               1969 non-null object\n",
      "event_name_1    162 non-null object\n",
      "event_type_1    162 non-null object\n",
      "event_name_2    5 non-null object\n",
      "event_type_2    5 non-null object\n",
      "snap_CA         1969 non-null int64\n",
      "snap_TX         1969 non-null int64\n",
      "snap_WI         1969 non-null int64\n",
      "dtypes: int64(7), object(7)\n",
      "memory usage: 215.5+ KB\n"
     ]
    }
   ],
   "source": [
    "cal_df.info()"
   ]
  },
  {
   "cell_type": "code",
   "execution_count": 7,
   "metadata": {
    "colab": {
     "base_uri": "https://localhost:8080/",
     "height": 204
    },
    "colab_type": "code",
    "id": "YHLlARhHLNRR",
    "outputId": "5e294922-18d9-46ed-b07e-048cac40cb51"
   },
   "outputs": [
    {
     "data": {
      "text/html": [
       "<div>\n",
       "<style scoped>\n",
       "    .dataframe tbody tr th:only-of-type {\n",
       "        vertical-align: middle;\n",
       "    }\n",
       "\n",
       "    .dataframe tbody tr th {\n",
       "        vertical-align: top;\n",
       "    }\n",
       "\n",
       "    .dataframe thead th {\n",
       "        text-align: right;\n",
       "    }\n",
       "</style>\n",
       "<table border=\"1\" class=\"dataframe\">\n",
       "  <thead>\n",
       "    <tr style=\"text-align: right;\">\n",
       "      <th></th>\n",
       "      <th>date</th>\n",
       "      <th>wm_yr_wk</th>\n",
       "      <th>weekday</th>\n",
       "      <th>wday</th>\n",
       "      <th>month</th>\n",
       "      <th>year</th>\n",
       "      <th>d</th>\n",
       "      <th>event_name_1</th>\n",
       "      <th>event_type_1</th>\n",
       "      <th>event_name_2</th>\n",
       "      <th>event_type_2</th>\n",
       "      <th>snap_CA</th>\n",
       "      <th>snap_TX</th>\n",
       "      <th>snap_WI</th>\n",
       "    </tr>\n",
       "  </thead>\n",
       "  <tbody>\n",
       "    <tr>\n",
       "      <th>0</th>\n",
       "      <td>2011-01-29</td>\n",
       "      <td>11101</td>\n",
       "      <td>Saturday</td>\n",
       "      <td>1</td>\n",
       "      <td>1</td>\n",
       "      <td>2011</td>\n",
       "      <td>d_1</td>\n",
       "      <td>NaN</td>\n",
       "      <td>NaN</td>\n",
       "      <td>NaN</td>\n",
       "      <td>NaN</td>\n",
       "      <td>0</td>\n",
       "      <td>0</td>\n",
       "      <td>0</td>\n",
       "    </tr>\n",
       "    <tr>\n",
       "      <th>1</th>\n",
       "      <td>2011-01-30</td>\n",
       "      <td>11101</td>\n",
       "      <td>Sunday</td>\n",
       "      <td>2</td>\n",
       "      <td>1</td>\n",
       "      <td>2011</td>\n",
       "      <td>d_2</td>\n",
       "      <td>NaN</td>\n",
       "      <td>NaN</td>\n",
       "      <td>NaN</td>\n",
       "      <td>NaN</td>\n",
       "      <td>0</td>\n",
       "      <td>0</td>\n",
       "      <td>0</td>\n",
       "    </tr>\n",
       "    <tr>\n",
       "      <th>2</th>\n",
       "      <td>2011-01-31</td>\n",
       "      <td>11101</td>\n",
       "      <td>Monday</td>\n",
       "      <td>3</td>\n",
       "      <td>1</td>\n",
       "      <td>2011</td>\n",
       "      <td>d_3</td>\n",
       "      <td>NaN</td>\n",
       "      <td>NaN</td>\n",
       "      <td>NaN</td>\n",
       "      <td>NaN</td>\n",
       "      <td>0</td>\n",
       "      <td>0</td>\n",
       "      <td>0</td>\n",
       "    </tr>\n",
       "    <tr>\n",
       "      <th>3</th>\n",
       "      <td>2011-02-01</td>\n",
       "      <td>11101</td>\n",
       "      <td>Tuesday</td>\n",
       "      <td>4</td>\n",
       "      <td>2</td>\n",
       "      <td>2011</td>\n",
       "      <td>d_4</td>\n",
       "      <td>NaN</td>\n",
       "      <td>NaN</td>\n",
       "      <td>NaN</td>\n",
       "      <td>NaN</td>\n",
       "      <td>1</td>\n",
       "      <td>1</td>\n",
       "      <td>0</td>\n",
       "    </tr>\n",
       "    <tr>\n",
       "      <th>4</th>\n",
       "      <td>2011-02-02</td>\n",
       "      <td>11101</td>\n",
       "      <td>Wednesday</td>\n",
       "      <td>5</td>\n",
       "      <td>2</td>\n",
       "      <td>2011</td>\n",
       "      <td>d_5</td>\n",
       "      <td>NaN</td>\n",
       "      <td>NaN</td>\n",
       "      <td>NaN</td>\n",
       "      <td>NaN</td>\n",
       "      <td>1</td>\n",
       "      <td>0</td>\n",
       "      <td>1</td>\n",
       "    </tr>\n",
       "  </tbody>\n",
       "</table>\n",
       "</div>"
      ],
      "text/plain": [
       "         date  wm_yr_wk    weekday  ...  snap_CA  snap_TX  snap_WI\n",
       "0  2011-01-29     11101   Saturday  ...        0        0        0\n",
       "1  2011-01-30     11101     Sunday  ...        0        0        0\n",
       "2  2011-01-31     11101     Monday  ...        0        0        0\n",
       "3  2011-02-01     11101    Tuesday  ...        1        1        0\n",
       "4  2011-02-02     11101  Wednesday  ...        1        0        1\n",
       "\n",
       "[5 rows x 14 columns]"
      ]
     },
     "execution_count": 7,
     "metadata": {
      "tags": []
     },
     "output_type": "execute_result"
    }
   ],
   "source": [
    "cal_df.head()"
   ]
  },
  {
   "cell_type": "code",
   "execution_count": 0,
   "metadata": {
    "colab": {},
    "colab_type": "code",
    "id": "a_vO1YcpLNRW"
   },
   "outputs": [],
   "source": [
    "date_map_df = cal_df[[\"date\", \"d\", \"snap_CA\", \"snap_TX\", \"snap_WI\", \"wm_yr_wk\"]]"
   ]
  },
  {
   "cell_type": "code",
   "execution_count": 0,
   "metadata": {
    "colab": {},
    "colab_type": "code",
    "id": "r9O-j0rsLNRc"
   },
   "outputs": [],
   "source": [
    "date_map_df = date_map_df.rename(columns={\"date\": \"ds\"})"
   ]
  },
  {
   "cell_type": "code",
   "execution_count": 0,
   "metadata": {
    "colab": {},
    "colab_type": "code",
    "id": "222UpcWdNYRw"
   },
   "outputs": [],
   "source": [
    "future_dates = list(date_map_df[1913:1941].ds)"
   ]
  },
  {
   "cell_type": "code",
   "execution_count": 0,
   "metadata": {
    "colab": {},
    "colab_type": "code",
    "id": "LaG89b4eNYR5"
   },
   "outputs": [],
   "source": [
    "sell_prices_df = pd.read_csv(\"sell_prices.csv\")"
   ]
  },
  {
   "cell_type": "code",
   "execution_count": 0,
   "metadata": {
    "colab": {},
    "colab_type": "code",
    "id": "SQZPqP9dNYSA"
   },
   "outputs": [],
   "source": [
    "sell_prices_df[\"id\"] = sell_prices_df[\"item_id\"] + \"_\" + sell_prices_df[\"store_id\"] + \"_validation\""
   ]
  },
  {
   "cell_type": "code",
   "execution_count": 0,
   "metadata": {
    "colab": {},
    "colab_type": "code",
    "id": "RP5mZjoZNYSQ"
   },
   "outputs": [],
   "source": [
    "sell_prices_df = sell_prices_df[[\"id\", \"wm_yr_wk\", \"sell_price\"]]"
   ]
  },
  {
   "cell_type": "code",
   "execution_count": 15,
   "metadata": {
    "colab": {
     "base_uri": "https://localhost:8080/",
     "height": 204
    },
    "colab_type": "code",
    "id": "IeIz_BxxNYSX",
    "outputId": "95bf69d8-f1d8-4a27-f78a-dda9929ce80e"
   },
   "outputs": [
    {
     "data": {
      "text/html": [
       "<div>\n",
       "<style scoped>\n",
       "    .dataframe tbody tr th:only-of-type {\n",
       "        vertical-align: middle;\n",
       "    }\n",
       "\n",
       "    .dataframe tbody tr th {\n",
       "        vertical-align: top;\n",
       "    }\n",
       "\n",
       "    .dataframe thead th {\n",
       "        text-align: right;\n",
       "    }\n",
       "</style>\n",
       "<table border=\"1\" class=\"dataframe\">\n",
       "  <thead>\n",
       "    <tr style=\"text-align: right;\">\n",
       "      <th></th>\n",
       "      <th>id</th>\n",
       "      <th>wm_yr_wk</th>\n",
       "      <th>sell_price</th>\n",
       "    </tr>\n",
       "  </thead>\n",
       "  <tbody>\n",
       "    <tr>\n",
       "      <th>0</th>\n",
       "      <td>HOBBIES_1_001_CA_1_validation</td>\n",
       "      <td>11325</td>\n",
       "      <td>9.58</td>\n",
       "    </tr>\n",
       "    <tr>\n",
       "      <th>1</th>\n",
       "      <td>HOBBIES_1_001_CA_1_validation</td>\n",
       "      <td>11326</td>\n",
       "      <td>9.58</td>\n",
       "    </tr>\n",
       "    <tr>\n",
       "      <th>2</th>\n",
       "      <td>HOBBIES_1_001_CA_1_validation</td>\n",
       "      <td>11327</td>\n",
       "      <td>8.26</td>\n",
       "    </tr>\n",
       "    <tr>\n",
       "      <th>3</th>\n",
       "      <td>HOBBIES_1_001_CA_1_validation</td>\n",
       "      <td>11328</td>\n",
       "      <td>8.26</td>\n",
       "    </tr>\n",
       "    <tr>\n",
       "      <th>4</th>\n",
       "      <td>HOBBIES_1_001_CA_1_validation</td>\n",
       "      <td>11329</td>\n",
       "      <td>8.26</td>\n",
       "    </tr>\n",
       "  </tbody>\n",
       "</table>\n",
       "</div>"
      ],
      "text/plain": [
       "                              id  wm_yr_wk  sell_price\n",
       "0  HOBBIES_1_001_CA_1_validation     11325        9.58\n",
       "1  HOBBIES_1_001_CA_1_validation     11326        9.58\n",
       "2  HOBBIES_1_001_CA_1_validation     11327        8.26\n",
       "3  HOBBIES_1_001_CA_1_validation     11328        8.26\n",
       "4  HOBBIES_1_001_CA_1_validation     11329        8.26"
      ]
     },
     "execution_count": 15,
     "metadata": {
      "tags": []
     },
     "output_type": "execute_result"
    }
   ],
   "source": [
    "sell_prices_df.head()"
   ]
  },
  {
   "cell_type": "code",
   "execution_count": 0,
   "metadata": {
    "colab": {},
    "colab_type": "code",
    "id": "ApashFzXLNRh"
   },
   "outputs": [],
   "source": [
    "sales_train_df = pd.read_csv(file_name + \".csv\", index_col=0)"
   ]
  },
  {
   "cell_type": "code",
   "execution_count": 17,
   "metadata": {
    "colab": {
     "base_uri": "https://localhost:8080/",
     "height": 102
    },
    "colab_type": "code",
    "id": "vEjrIP6HLNRl",
    "outputId": "1de4c2d9-99a7-45af-d57c-a06bd482a663"
   },
   "outputs": [
    {
     "name": "stdout",
     "output_type": "stream",
     "text": [
      "<class 'pandas.core.frame.DataFrame'>\n",
      "Int64Index: 1016 entries, 1016 to 2031\n",
      "Columns: 1919 entries, id to d_1913\n",
      "dtypes: int64(1913), object(6)\n",
      "memory usage: 14.9+ MB\n"
     ]
    }
   ],
   "source": [
    "sales_train_df.info()"
   ]
  },
  {
   "cell_type": "code",
   "execution_count": 18,
   "metadata": {
    "colab": {
     "base_uri": "https://localhost:8080/",
     "height": 253
    },
    "colab_type": "code",
    "id": "xAxFn_LzLNRr",
    "outputId": "64bf464b-5300-48b0-bb4f-f81a03e46761"
   },
   "outputs": [
    {
     "data": {
      "text/html": [
       "<div>\n",
       "<style scoped>\n",
       "    .dataframe tbody tr th:only-of-type {\n",
       "        vertical-align: middle;\n",
       "    }\n",
       "\n",
       "    .dataframe tbody tr th {\n",
       "        vertical-align: top;\n",
       "    }\n",
       "\n",
       "    .dataframe thead th {\n",
       "        text-align: right;\n",
       "    }\n",
       "</style>\n",
       "<table border=\"1\" class=\"dataframe\">\n",
       "  <thead>\n",
       "    <tr style=\"text-align: right;\">\n",
       "      <th></th>\n",
       "      <th>id</th>\n",
       "      <th>item_id</th>\n",
       "      <th>dept_id</th>\n",
       "      <th>cat_id</th>\n",
       "      <th>store_id</th>\n",
       "      <th>state_id</th>\n",
       "      <th>d_1</th>\n",
       "      <th>d_2</th>\n",
       "      <th>d_3</th>\n",
       "      <th>d_4</th>\n",
       "      <th>d_5</th>\n",
       "      <th>d_6</th>\n",
       "      <th>d_7</th>\n",
       "      <th>d_8</th>\n",
       "      <th>d_9</th>\n",
       "      <th>d_10</th>\n",
       "      <th>d_11</th>\n",
       "      <th>d_12</th>\n",
       "      <th>d_13</th>\n",
       "      <th>d_14</th>\n",
       "      <th>d_15</th>\n",
       "      <th>d_16</th>\n",
       "      <th>d_17</th>\n",
       "      <th>d_18</th>\n",
       "      <th>d_19</th>\n",
       "      <th>d_20</th>\n",
       "      <th>d_21</th>\n",
       "      <th>d_22</th>\n",
       "      <th>d_23</th>\n",
       "      <th>d_24</th>\n",
       "      <th>d_25</th>\n",
       "      <th>d_26</th>\n",
       "      <th>d_27</th>\n",
       "      <th>d_28</th>\n",
       "      <th>d_29</th>\n",
       "      <th>d_30</th>\n",
       "      <th>d_31</th>\n",
       "      <th>d_32</th>\n",
       "      <th>d_33</th>\n",
       "      <th>d_34</th>\n",
       "      <th>...</th>\n",
       "      <th>d_1874</th>\n",
       "      <th>d_1875</th>\n",
       "      <th>d_1876</th>\n",
       "      <th>d_1877</th>\n",
       "      <th>d_1878</th>\n",
       "      <th>d_1879</th>\n",
       "      <th>d_1880</th>\n",
       "      <th>d_1881</th>\n",
       "      <th>d_1882</th>\n",
       "      <th>d_1883</th>\n",
       "      <th>d_1884</th>\n",
       "      <th>d_1885</th>\n",
       "      <th>d_1886</th>\n",
       "      <th>d_1887</th>\n",
       "      <th>d_1888</th>\n",
       "      <th>d_1889</th>\n",
       "      <th>d_1890</th>\n",
       "      <th>d_1891</th>\n",
       "      <th>d_1892</th>\n",
       "      <th>d_1893</th>\n",
       "      <th>d_1894</th>\n",
       "      <th>d_1895</th>\n",
       "      <th>d_1896</th>\n",
       "      <th>d_1897</th>\n",
       "      <th>d_1898</th>\n",
       "      <th>d_1899</th>\n",
       "      <th>d_1900</th>\n",
       "      <th>d_1901</th>\n",
       "      <th>d_1902</th>\n",
       "      <th>d_1903</th>\n",
       "      <th>d_1904</th>\n",
       "      <th>d_1905</th>\n",
       "      <th>d_1906</th>\n",
       "      <th>d_1907</th>\n",
       "      <th>d_1908</th>\n",
       "      <th>d_1909</th>\n",
       "      <th>d_1910</th>\n",
       "      <th>d_1911</th>\n",
       "      <th>d_1912</th>\n",
       "      <th>d_1913</th>\n",
       "    </tr>\n",
       "  </thead>\n",
       "  <tbody>\n",
       "    <tr>\n",
       "      <th>1016</th>\n",
       "      <td>HOUSEHOLD_1_461_CA_1_validation</td>\n",
       "      <td>HOUSEHOLD_1_461</td>\n",
       "      <td>HOUSEHOLD_1</td>\n",
       "      <td>HOUSEHOLD</td>\n",
       "      <td>CA_1</td>\n",
       "      <td>CA</td>\n",
       "      <td>1</td>\n",
       "      <td>0</td>\n",
       "      <td>2</td>\n",
       "      <td>0</td>\n",
       "      <td>0</td>\n",
       "      <td>1</td>\n",
       "      <td>0</td>\n",
       "      <td>3</td>\n",
       "      <td>1</td>\n",
       "      <td>1</td>\n",
       "      <td>1</td>\n",
       "      <td>0</td>\n",
       "      <td>2</td>\n",
       "      <td>1</td>\n",
       "      <td>3</td>\n",
       "      <td>1</td>\n",
       "      <td>5</td>\n",
       "      <td>1</td>\n",
       "      <td>2</td>\n",
       "      <td>1</td>\n",
       "      <td>0</td>\n",
       "      <td>0</td>\n",
       "      <td>2</td>\n",
       "      <td>0</td>\n",
       "      <td>0</td>\n",
       "      <td>1</td>\n",
       "      <td>1</td>\n",
       "      <td>1</td>\n",
       "      <td>1</td>\n",
       "      <td>3</td>\n",
       "      <td>10</td>\n",
       "      <td>1</td>\n",
       "      <td>0</td>\n",
       "      <td>2</td>\n",
       "      <td>...</td>\n",
       "      <td>0</td>\n",
       "      <td>1</td>\n",
       "      <td>1</td>\n",
       "      <td>0</td>\n",
       "      <td>3</td>\n",
       "      <td>1</td>\n",
       "      <td>1</td>\n",
       "      <td>0</td>\n",
       "      <td>0</td>\n",
       "      <td>1</td>\n",
       "      <td>4</td>\n",
       "      <td>2</td>\n",
       "      <td>1</td>\n",
       "      <td>2</td>\n",
       "      <td>0</td>\n",
       "      <td>0</td>\n",
       "      <td>0</td>\n",
       "      <td>0</td>\n",
       "      <td>2</td>\n",
       "      <td>1</td>\n",
       "      <td>1</td>\n",
       "      <td>0</td>\n",
       "      <td>0</td>\n",
       "      <td>2</td>\n",
       "      <td>1</td>\n",
       "      <td>0</td>\n",
       "      <td>0</td>\n",
       "      <td>0</td>\n",
       "      <td>1</td>\n",
       "      <td>0</td>\n",
       "      <td>1</td>\n",
       "      <td>2</td>\n",
       "      <td>1</td>\n",
       "      <td>0</td>\n",
       "      <td>1</td>\n",
       "      <td>0</td>\n",
       "      <td>1</td>\n",
       "      <td>1</td>\n",
       "      <td>4</td>\n",
       "      <td>0</td>\n",
       "    </tr>\n",
       "    <tr>\n",
       "      <th>1017</th>\n",
       "      <td>HOUSEHOLD_1_462_CA_1_validation</td>\n",
       "      <td>HOUSEHOLD_1_462</td>\n",
       "      <td>HOUSEHOLD_1</td>\n",
       "      <td>HOUSEHOLD</td>\n",
       "      <td>CA_1</td>\n",
       "      <td>CA</td>\n",
       "      <td>0</td>\n",
       "      <td>0</td>\n",
       "      <td>0</td>\n",
       "      <td>0</td>\n",
       "      <td>0</td>\n",
       "      <td>0</td>\n",
       "      <td>0</td>\n",
       "      <td>0</td>\n",
       "      <td>0</td>\n",
       "      <td>0</td>\n",
       "      <td>0</td>\n",
       "      <td>0</td>\n",
       "      <td>0</td>\n",
       "      <td>0</td>\n",
       "      <td>0</td>\n",
       "      <td>0</td>\n",
       "      <td>0</td>\n",
       "      <td>0</td>\n",
       "      <td>0</td>\n",
       "      <td>0</td>\n",
       "      <td>0</td>\n",
       "      <td>0</td>\n",
       "      <td>0</td>\n",
       "      <td>0</td>\n",
       "      <td>0</td>\n",
       "      <td>0</td>\n",
       "      <td>0</td>\n",
       "      <td>0</td>\n",
       "      <td>0</td>\n",
       "      <td>0</td>\n",
       "      <td>0</td>\n",
       "      <td>0</td>\n",
       "      <td>0</td>\n",
       "      <td>0</td>\n",
       "      <td>...</td>\n",
       "      <td>1</td>\n",
       "      <td>1</td>\n",
       "      <td>4</td>\n",
       "      <td>0</td>\n",
       "      <td>4</td>\n",
       "      <td>1</td>\n",
       "      <td>2</td>\n",
       "      <td>0</td>\n",
       "      <td>3</td>\n",
       "      <td>3</td>\n",
       "      <td>1</td>\n",
       "      <td>0</td>\n",
       "      <td>1</td>\n",
       "      <td>1</td>\n",
       "      <td>0</td>\n",
       "      <td>0</td>\n",
       "      <td>0</td>\n",
       "      <td>1</td>\n",
       "      <td>1</td>\n",
       "      <td>0</td>\n",
       "      <td>1</td>\n",
       "      <td>2</td>\n",
       "      <td>0</td>\n",
       "      <td>0</td>\n",
       "      <td>0</td>\n",
       "      <td>0</td>\n",
       "      <td>0</td>\n",
       "      <td>0</td>\n",
       "      <td>0</td>\n",
       "      <td>1</td>\n",
       "      <td>0</td>\n",
       "      <td>0</td>\n",
       "      <td>5</td>\n",
       "      <td>0</td>\n",
       "      <td>0</td>\n",
       "      <td>0</td>\n",
       "      <td>1</td>\n",
       "      <td>0</td>\n",
       "      <td>0</td>\n",
       "      <td>1</td>\n",
       "    </tr>\n",
       "    <tr>\n",
       "      <th>1018</th>\n",
       "      <td>HOUSEHOLD_1_463_CA_1_validation</td>\n",
       "      <td>HOUSEHOLD_1_463</td>\n",
       "      <td>HOUSEHOLD_1</td>\n",
       "      <td>HOUSEHOLD</td>\n",
       "      <td>CA_1</td>\n",
       "      <td>CA</td>\n",
       "      <td>0</td>\n",
       "      <td>0</td>\n",
       "      <td>0</td>\n",
       "      <td>0</td>\n",
       "      <td>0</td>\n",
       "      <td>0</td>\n",
       "      <td>0</td>\n",
       "      <td>0</td>\n",
       "      <td>0</td>\n",
       "      <td>0</td>\n",
       "      <td>0</td>\n",
       "      <td>0</td>\n",
       "      <td>0</td>\n",
       "      <td>0</td>\n",
       "      <td>0</td>\n",
       "      <td>0</td>\n",
       "      <td>0</td>\n",
       "      <td>0</td>\n",
       "      <td>0</td>\n",
       "      <td>0</td>\n",
       "      <td>0</td>\n",
       "      <td>0</td>\n",
       "      <td>0</td>\n",
       "      <td>0</td>\n",
       "      <td>0</td>\n",
       "      <td>0</td>\n",
       "      <td>0</td>\n",
       "      <td>0</td>\n",
       "      <td>0</td>\n",
       "      <td>0</td>\n",
       "      <td>0</td>\n",
       "      <td>0</td>\n",
       "      <td>0</td>\n",
       "      <td>0</td>\n",
       "      <td>...</td>\n",
       "      <td>0</td>\n",
       "      <td>0</td>\n",
       "      <td>0</td>\n",
       "      <td>1</td>\n",
       "      <td>0</td>\n",
       "      <td>0</td>\n",
       "      <td>1</td>\n",
       "      <td>1</td>\n",
       "      <td>0</td>\n",
       "      <td>0</td>\n",
       "      <td>0</td>\n",
       "      <td>0</td>\n",
       "      <td>1</td>\n",
       "      <td>0</td>\n",
       "      <td>0</td>\n",
       "      <td>0</td>\n",
       "      <td>0</td>\n",
       "      <td>0</td>\n",
       "      <td>1</td>\n",
       "      <td>0</td>\n",
       "      <td>0</td>\n",
       "      <td>0</td>\n",
       "      <td>1</td>\n",
       "      <td>1</td>\n",
       "      <td>0</td>\n",
       "      <td>0</td>\n",
       "      <td>0</td>\n",
       "      <td>0</td>\n",
       "      <td>0</td>\n",
       "      <td>0</td>\n",
       "      <td>0</td>\n",
       "      <td>0</td>\n",
       "      <td>0</td>\n",
       "      <td>0</td>\n",
       "      <td>0</td>\n",
       "      <td>0</td>\n",
       "      <td>0</td>\n",
       "      <td>0</td>\n",
       "      <td>0</td>\n",
       "      <td>1</td>\n",
       "    </tr>\n",
       "    <tr>\n",
       "      <th>1019</th>\n",
       "      <td>HOUSEHOLD_1_464_CA_1_validation</td>\n",
       "      <td>HOUSEHOLD_1_464</td>\n",
       "      <td>HOUSEHOLD_1</td>\n",
       "      <td>HOUSEHOLD</td>\n",
       "      <td>CA_1</td>\n",
       "      <td>CA</td>\n",
       "      <td>0</td>\n",
       "      <td>1</td>\n",
       "      <td>0</td>\n",
       "      <td>2</td>\n",
       "      <td>0</td>\n",
       "      <td>0</td>\n",
       "      <td>0</td>\n",
       "      <td>0</td>\n",
       "      <td>7</td>\n",
       "      <td>0</td>\n",
       "      <td>0</td>\n",
       "      <td>2</td>\n",
       "      <td>0</td>\n",
       "      <td>6</td>\n",
       "      <td>0</td>\n",
       "      <td>0</td>\n",
       "      <td>0</td>\n",
       "      <td>0</td>\n",
       "      <td>1</td>\n",
       "      <td>0</td>\n",
       "      <td>0</td>\n",
       "      <td>1</td>\n",
       "      <td>0</td>\n",
       "      <td>0</td>\n",
       "      <td>0</td>\n",
       "      <td>2</td>\n",
       "      <td>1</td>\n",
       "      <td>1</td>\n",
       "      <td>1</td>\n",
       "      <td>0</td>\n",
       "      <td>2</td>\n",
       "      <td>1</td>\n",
       "      <td>0</td>\n",
       "      <td>1</td>\n",
       "      <td>...</td>\n",
       "      <td>1</td>\n",
       "      <td>0</td>\n",
       "      <td>0</td>\n",
       "      <td>0</td>\n",
       "      <td>0</td>\n",
       "      <td>1</td>\n",
       "      <td>0</td>\n",
       "      <td>0</td>\n",
       "      <td>1</td>\n",
       "      <td>0</td>\n",
       "      <td>1</td>\n",
       "      <td>0</td>\n",
       "      <td>0</td>\n",
       "      <td>1</td>\n",
       "      <td>0</td>\n",
       "      <td>0</td>\n",
       "      <td>0</td>\n",
       "      <td>0</td>\n",
       "      <td>0</td>\n",
       "      <td>1</td>\n",
       "      <td>0</td>\n",
       "      <td>2</td>\n",
       "      <td>0</td>\n",
       "      <td>0</td>\n",
       "      <td>0</td>\n",
       "      <td>0</td>\n",
       "      <td>0</td>\n",
       "      <td>0</td>\n",
       "      <td>1</td>\n",
       "      <td>0</td>\n",
       "      <td>0</td>\n",
       "      <td>2</td>\n",
       "      <td>1</td>\n",
       "      <td>0</td>\n",
       "      <td>0</td>\n",
       "      <td>0</td>\n",
       "      <td>0</td>\n",
       "      <td>1</td>\n",
       "      <td>0</td>\n",
       "      <td>1</td>\n",
       "    </tr>\n",
       "    <tr>\n",
       "      <th>1020</th>\n",
       "      <td>HOUSEHOLD_1_465_CA_1_validation</td>\n",
       "      <td>HOUSEHOLD_1_465</td>\n",
       "      <td>HOUSEHOLD_1</td>\n",
       "      <td>HOUSEHOLD</td>\n",
       "      <td>CA_1</td>\n",
       "      <td>CA</td>\n",
       "      <td>0</td>\n",
       "      <td>0</td>\n",
       "      <td>0</td>\n",
       "      <td>0</td>\n",
       "      <td>0</td>\n",
       "      <td>0</td>\n",
       "      <td>0</td>\n",
       "      <td>0</td>\n",
       "      <td>0</td>\n",
       "      <td>0</td>\n",
       "      <td>0</td>\n",
       "      <td>0</td>\n",
       "      <td>0</td>\n",
       "      <td>0</td>\n",
       "      <td>0</td>\n",
       "      <td>0</td>\n",
       "      <td>0</td>\n",
       "      <td>0</td>\n",
       "      <td>0</td>\n",
       "      <td>0</td>\n",
       "      <td>0</td>\n",
       "      <td>0</td>\n",
       "      <td>0</td>\n",
       "      <td>0</td>\n",
       "      <td>0</td>\n",
       "      <td>0</td>\n",
       "      <td>0</td>\n",
       "      <td>0</td>\n",
       "      <td>0</td>\n",
       "      <td>0</td>\n",
       "      <td>0</td>\n",
       "      <td>0</td>\n",
       "      <td>0</td>\n",
       "      <td>0</td>\n",
       "      <td>...</td>\n",
       "      <td>13</td>\n",
       "      <td>8</td>\n",
       "      <td>7</td>\n",
       "      <td>12</td>\n",
       "      <td>20</td>\n",
       "      <td>9</td>\n",
       "      <td>5</td>\n",
       "      <td>7</td>\n",
       "      <td>9</td>\n",
       "      <td>5</td>\n",
       "      <td>13</td>\n",
       "      <td>16</td>\n",
       "      <td>8</td>\n",
       "      <td>12</td>\n",
       "      <td>15</td>\n",
       "      <td>9</td>\n",
       "      <td>17</td>\n",
       "      <td>14</td>\n",
       "      <td>22</td>\n",
       "      <td>82</td>\n",
       "      <td>2</td>\n",
       "      <td>5</td>\n",
       "      <td>16</td>\n",
       "      <td>7</td>\n",
       "      <td>4</td>\n",
       "      <td>19</td>\n",
       "      <td>11</td>\n",
       "      <td>19</td>\n",
       "      <td>7</td>\n",
       "      <td>9</td>\n",
       "      <td>24</td>\n",
       "      <td>21</td>\n",
       "      <td>15</td>\n",
       "      <td>10</td>\n",
       "      <td>9</td>\n",
       "      <td>10</td>\n",
       "      <td>13</td>\n",
       "      <td>16</td>\n",
       "      <td>37</td>\n",
       "      <td>24</td>\n",
       "    </tr>\n",
       "  </tbody>\n",
       "</table>\n",
       "<p>5 rows × 1919 columns</p>\n",
       "</div>"
      ],
      "text/plain": [
       "                                   id          item_id  ... d_1912 d_1913\n",
       "1016  HOUSEHOLD_1_461_CA_1_validation  HOUSEHOLD_1_461  ...      4      0\n",
       "1017  HOUSEHOLD_1_462_CA_1_validation  HOUSEHOLD_1_462  ...      0      1\n",
       "1018  HOUSEHOLD_1_463_CA_1_validation  HOUSEHOLD_1_463  ...      0      1\n",
       "1019  HOUSEHOLD_1_464_CA_1_validation  HOUSEHOLD_1_464  ...      0      1\n",
       "1020  HOUSEHOLD_1_465_CA_1_validation  HOUSEHOLD_1_465  ...     37     24\n",
       "\n",
       "[5 rows x 1919 columns]"
      ]
     },
     "execution_count": 18,
     "metadata": {
      "tags": []
     },
     "output_type": "execute_result"
    }
   ],
   "source": [
    "sales_train_df.head()"
   ]
  },
  {
   "cell_type": "code",
   "execution_count": 0,
   "metadata": {
    "colab": {},
    "colab_type": "code",
    "id": "DGeiW_fhLNRv"
   },
   "outputs": [],
   "source": [
    "sales_train_df = sales_train_df.drop(columns=[\"item_id\", \"dept_id\", \"cat_id\", \"store_id\", \"state_id\"])"
   ]
  },
  {
   "cell_type": "code",
   "execution_count": 0,
   "metadata": {
    "colab": {},
    "colab_type": "code",
    "id": "9jilFqccLNRz"
   },
   "outputs": [],
   "source": [
    "sales_df = pd.melt(sales_train_df, id_vars=[\"id\"], var_name=\"d\")"
   ]
  },
  {
   "cell_type": "code",
   "execution_count": 21,
   "metadata": {
    "colab": {
     "base_uri": "https://localhost:8080/",
     "height": 153
    },
    "colab_type": "code",
    "id": "57uqSvCLLNR7",
    "outputId": "369a5a6b-35ab-43da-94a2-4f4bb19cf279"
   },
   "outputs": [
    {
     "name": "stdout",
     "output_type": "stream",
     "text": [
      "<class 'pandas.core.frame.DataFrame'>\n",
      "RangeIndex: 1943608 entries, 0 to 1943607\n",
      "Data columns (total 3 columns):\n",
      "id       object\n",
      "d        object\n",
      "value    int64\n",
      "dtypes: int64(1), object(2)\n",
      "memory usage: 44.5+ MB\n"
     ]
    }
   ],
   "source": [
    "sales_df.info()"
   ]
  },
  {
   "cell_type": "code",
   "execution_count": 22,
   "metadata": {
    "colab": {
     "base_uri": "https://localhost:8080/",
     "height": 204
    },
    "colab_type": "code",
    "id": "54KQsrP7gtLY",
    "outputId": "42cdc017-517b-4f50-8b4c-332dccddca51"
   },
   "outputs": [
    {
     "data": {
      "text/html": [
       "<div>\n",
       "<style scoped>\n",
       "    .dataframe tbody tr th:only-of-type {\n",
       "        vertical-align: middle;\n",
       "    }\n",
       "\n",
       "    .dataframe tbody tr th {\n",
       "        vertical-align: top;\n",
       "    }\n",
       "\n",
       "    .dataframe thead th {\n",
       "        text-align: right;\n",
       "    }\n",
       "</style>\n",
       "<table border=\"1\" class=\"dataframe\">\n",
       "  <thead>\n",
       "    <tr style=\"text-align: right;\">\n",
       "      <th></th>\n",
       "      <th>id</th>\n",
       "      <th>d</th>\n",
       "      <th>value</th>\n",
       "    </tr>\n",
       "  </thead>\n",
       "  <tbody>\n",
       "    <tr>\n",
       "      <th>0</th>\n",
       "      <td>HOUSEHOLD_1_461_CA_1_validation</td>\n",
       "      <td>d_1</td>\n",
       "      <td>1</td>\n",
       "    </tr>\n",
       "    <tr>\n",
       "      <th>1</th>\n",
       "      <td>HOUSEHOLD_1_462_CA_1_validation</td>\n",
       "      <td>d_1</td>\n",
       "      <td>0</td>\n",
       "    </tr>\n",
       "    <tr>\n",
       "      <th>2</th>\n",
       "      <td>HOUSEHOLD_1_463_CA_1_validation</td>\n",
       "      <td>d_1</td>\n",
       "      <td>0</td>\n",
       "    </tr>\n",
       "    <tr>\n",
       "      <th>3</th>\n",
       "      <td>HOUSEHOLD_1_464_CA_1_validation</td>\n",
       "      <td>d_1</td>\n",
       "      <td>0</td>\n",
       "    </tr>\n",
       "    <tr>\n",
       "      <th>4</th>\n",
       "      <td>HOUSEHOLD_1_465_CA_1_validation</td>\n",
       "      <td>d_1</td>\n",
       "      <td>0</td>\n",
       "    </tr>\n",
       "  </tbody>\n",
       "</table>\n",
       "</div>"
      ],
      "text/plain": [
       "                                id    d  value\n",
       "0  HOUSEHOLD_1_461_CA_1_validation  d_1      1\n",
       "1  HOUSEHOLD_1_462_CA_1_validation  d_1      0\n",
       "2  HOUSEHOLD_1_463_CA_1_validation  d_1      0\n",
       "3  HOUSEHOLD_1_464_CA_1_validation  d_1      0\n",
       "4  HOUSEHOLD_1_465_CA_1_validation  d_1      0"
      ]
     },
     "execution_count": 22,
     "metadata": {
      "tags": []
     },
     "output_type": "execute_result"
    }
   ],
   "source": [
    "sales_df.head()"
   ]
  },
  {
   "cell_type": "code",
   "execution_count": 0,
   "metadata": {
    "colab": {},
    "colab_type": "code",
    "id": "aTYXEu5KLNR_"
   },
   "outputs": [],
   "source": [
    "joined_df = sales_df.merge(date_map_df, on=\"d\", how=\"left\")"
   ]
  },
  {
   "cell_type": "code",
   "execution_count": 24,
   "metadata": {
    "colab": {
     "base_uri": "https://localhost:8080/",
     "height": 204
    },
    "colab_type": "code",
    "id": "v3ze0BG5LNSD",
    "outputId": "9262bd45-570d-42d0-c39e-2c4937ffb93e"
   },
   "outputs": [
    {
     "data": {
      "text/html": [
       "<div>\n",
       "<style scoped>\n",
       "    .dataframe tbody tr th:only-of-type {\n",
       "        vertical-align: middle;\n",
       "    }\n",
       "\n",
       "    .dataframe tbody tr th {\n",
       "        vertical-align: top;\n",
       "    }\n",
       "\n",
       "    .dataframe thead th {\n",
       "        text-align: right;\n",
       "    }\n",
       "</style>\n",
       "<table border=\"1\" class=\"dataframe\">\n",
       "  <thead>\n",
       "    <tr style=\"text-align: right;\">\n",
       "      <th></th>\n",
       "      <th>id</th>\n",
       "      <th>d</th>\n",
       "      <th>value</th>\n",
       "      <th>ds</th>\n",
       "      <th>snap_CA</th>\n",
       "      <th>snap_TX</th>\n",
       "      <th>snap_WI</th>\n",
       "      <th>wm_yr_wk</th>\n",
       "    </tr>\n",
       "  </thead>\n",
       "  <tbody>\n",
       "    <tr>\n",
       "      <th>0</th>\n",
       "      <td>HOUSEHOLD_1_461_CA_1_validation</td>\n",
       "      <td>d_1</td>\n",
       "      <td>1</td>\n",
       "      <td>2011-01-29</td>\n",
       "      <td>0</td>\n",
       "      <td>0</td>\n",
       "      <td>0</td>\n",
       "      <td>11101</td>\n",
       "    </tr>\n",
       "    <tr>\n",
       "      <th>1</th>\n",
       "      <td>HOUSEHOLD_1_462_CA_1_validation</td>\n",
       "      <td>d_1</td>\n",
       "      <td>0</td>\n",
       "      <td>2011-01-29</td>\n",
       "      <td>0</td>\n",
       "      <td>0</td>\n",
       "      <td>0</td>\n",
       "      <td>11101</td>\n",
       "    </tr>\n",
       "    <tr>\n",
       "      <th>2</th>\n",
       "      <td>HOUSEHOLD_1_463_CA_1_validation</td>\n",
       "      <td>d_1</td>\n",
       "      <td>0</td>\n",
       "      <td>2011-01-29</td>\n",
       "      <td>0</td>\n",
       "      <td>0</td>\n",
       "      <td>0</td>\n",
       "      <td>11101</td>\n",
       "    </tr>\n",
       "    <tr>\n",
       "      <th>3</th>\n",
       "      <td>HOUSEHOLD_1_464_CA_1_validation</td>\n",
       "      <td>d_1</td>\n",
       "      <td>0</td>\n",
       "      <td>2011-01-29</td>\n",
       "      <td>0</td>\n",
       "      <td>0</td>\n",
       "      <td>0</td>\n",
       "      <td>11101</td>\n",
       "    </tr>\n",
       "    <tr>\n",
       "      <th>4</th>\n",
       "      <td>HOUSEHOLD_1_465_CA_1_validation</td>\n",
       "      <td>d_1</td>\n",
       "      <td>0</td>\n",
       "      <td>2011-01-29</td>\n",
       "      <td>0</td>\n",
       "      <td>0</td>\n",
       "      <td>0</td>\n",
       "      <td>11101</td>\n",
       "    </tr>\n",
       "  </tbody>\n",
       "</table>\n",
       "</div>"
      ],
      "text/plain": [
       "                                id    d  value  ... snap_TX  snap_WI  wm_yr_wk\n",
       "0  HOUSEHOLD_1_461_CA_1_validation  d_1      1  ...       0        0     11101\n",
       "1  HOUSEHOLD_1_462_CA_1_validation  d_1      0  ...       0        0     11101\n",
       "2  HOUSEHOLD_1_463_CA_1_validation  d_1      0  ...       0        0     11101\n",
       "3  HOUSEHOLD_1_464_CA_1_validation  d_1      0  ...       0        0     11101\n",
       "4  HOUSEHOLD_1_465_CA_1_validation  d_1      0  ...       0        0     11101\n",
       "\n",
       "[5 rows x 8 columns]"
      ]
     },
     "execution_count": 24,
     "metadata": {
      "tags": []
     },
     "output_type": "execute_result"
    }
   ],
   "source": [
    "joined_df.head()"
   ]
  },
  {
   "cell_type": "code",
   "execution_count": 0,
   "metadata": {
    "colab": {},
    "colab_type": "code",
    "id": "6qoRprh1NYTm"
   },
   "outputs": [],
   "source": [
    "final_joined_df = joined_df.merge(sell_prices_df, on=[\"id\", \"wm_yr_wk\"], how=\"left\")"
   ]
  },
  {
   "cell_type": "code",
   "execution_count": 26,
   "metadata": {
    "colab": {
     "base_uri": "https://localhost:8080/",
     "height": 204
    },
    "colab_type": "code",
    "id": "X_cblhxjNYTt",
    "outputId": "e476dc18-c986-461b-f6da-5215dd16e4f9"
   },
   "outputs": [
    {
     "data": {
      "text/html": [
       "<div>\n",
       "<style scoped>\n",
       "    .dataframe tbody tr th:only-of-type {\n",
       "        vertical-align: middle;\n",
       "    }\n",
       "\n",
       "    .dataframe tbody tr th {\n",
       "        vertical-align: top;\n",
       "    }\n",
       "\n",
       "    .dataframe thead th {\n",
       "        text-align: right;\n",
       "    }\n",
       "</style>\n",
       "<table border=\"1\" class=\"dataframe\">\n",
       "  <thead>\n",
       "    <tr style=\"text-align: right;\">\n",
       "      <th></th>\n",
       "      <th>id</th>\n",
       "      <th>d</th>\n",
       "      <th>value</th>\n",
       "      <th>ds</th>\n",
       "      <th>snap_CA</th>\n",
       "      <th>snap_TX</th>\n",
       "      <th>snap_WI</th>\n",
       "      <th>wm_yr_wk</th>\n",
       "      <th>sell_price</th>\n",
       "    </tr>\n",
       "  </thead>\n",
       "  <tbody>\n",
       "    <tr>\n",
       "      <th>0</th>\n",
       "      <td>HOUSEHOLD_1_461_CA_1_validation</td>\n",
       "      <td>d_1</td>\n",
       "      <td>1</td>\n",
       "      <td>2011-01-29</td>\n",
       "      <td>0</td>\n",
       "      <td>0</td>\n",
       "      <td>0</td>\n",
       "      <td>11101</td>\n",
       "      <td>0.97</td>\n",
       "    </tr>\n",
       "    <tr>\n",
       "      <th>1</th>\n",
       "      <td>HOUSEHOLD_1_462_CA_1_validation</td>\n",
       "      <td>d_1</td>\n",
       "      <td>0</td>\n",
       "      <td>2011-01-29</td>\n",
       "      <td>0</td>\n",
       "      <td>0</td>\n",
       "      <td>0</td>\n",
       "      <td>11101</td>\n",
       "      <td>NaN</td>\n",
       "    </tr>\n",
       "    <tr>\n",
       "      <th>2</th>\n",
       "      <td>HOUSEHOLD_1_463_CA_1_validation</td>\n",
       "      <td>d_1</td>\n",
       "      <td>0</td>\n",
       "      <td>2011-01-29</td>\n",
       "      <td>0</td>\n",
       "      <td>0</td>\n",
       "      <td>0</td>\n",
       "      <td>11101</td>\n",
       "      <td>NaN</td>\n",
       "    </tr>\n",
       "    <tr>\n",
       "      <th>3</th>\n",
       "      <td>HOUSEHOLD_1_464_CA_1_validation</td>\n",
       "      <td>d_1</td>\n",
       "      <td>0</td>\n",
       "      <td>2011-01-29</td>\n",
       "      <td>0</td>\n",
       "      <td>0</td>\n",
       "      <td>0</td>\n",
       "      <td>11101</td>\n",
       "      <td>8.87</td>\n",
       "    </tr>\n",
       "    <tr>\n",
       "      <th>4</th>\n",
       "      <td>HOUSEHOLD_1_465_CA_1_validation</td>\n",
       "      <td>d_1</td>\n",
       "      <td>0</td>\n",
       "      <td>2011-01-29</td>\n",
       "      <td>0</td>\n",
       "      <td>0</td>\n",
       "      <td>0</td>\n",
       "      <td>11101</td>\n",
       "      <td>NaN</td>\n",
       "    </tr>\n",
       "  </tbody>\n",
       "</table>\n",
       "</div>"
      ],
      "text/plain": [
       "                                id    d  value  ... snap_WI  wm_yr_wk  sell_price\n",
       "0  HOUSEHOLD_1_461_CA_1_validation  d_1      1  ...       0     11101        0.97\n",
       "1  HOUSEHOLD_1_462_CA_1_validation  d_1      0  ...       0     11101         NaN\n",
       "2  HOUSEHOLD_1_463_CA_1_validation  d_1      0  ...       0     11101         NaN\n",
       "3  HOUSEHOLD_1_464_CA_1_validation  d_1      0  ...       0     11101        8.87\n",
       "4  HOUSEHOLD_1_465_CA_1_validation  d_1      0  ...       0     11101         NaN\n",
       "\n",
       "[5 rows x 9 columns]"
      ]
     },
     "execution_count": 26,
     "metadata": {
      "tags": []
     },
     "output_type": "execute_result"
    }
   ],
   "source": [
    "final_joined_df.head()"
   ]
  },
  {
   "cell_type": "code",
   "execution_count": 0,
   "metadata": {
    "colab": {},
    "colab_type": "code",
    "id": "6-FgNR2JLNSH"
   },
   "outputs": [],
   "source": [
    "proph_df = final_joined_df.drop(columns=[\"d\"])"
   ]
  },
  {
   "cell_type": "code",
   "execution_count": 0,
   "metadata": {
    "colab": {},
    "colab_type": "code",
    "id": "mNZxWknxLNSK"
   },
   "outputs": [],
   "source": [
    "proph_df = proph_df.rename(columns={\"value\": \"y\"})"
   ]
  },
  {
   "cell_type": "code",
   "execution_count": 29,
   "metadata": {
    "colab": {
     "base_uri": "https://localhost:8080/",
     "height": 34
    },
    "colab_type": "code",
    "id": "0Z5QwHtbPThl",
    "outputId": "95f6d7c5-0533-46b3-bc29-77a52203881d"
   },
   "outputs": [
    {
     "data": {
      "text/plain": [
       "'2016-04-24'"
      ]
     },
     "execution_count": 29,
     "metadata": {
      "tags": []
     },
     "output_type": "execute_result"
    }
   ],
   "source": [
    "proph_df.ds.max()"
   ]
  },
  {
   "cell_type": "code",
   "execution_count": 30,
   "metadata": {
    "colab": {
     "base_uri": "https://localhost:8080/",
     "height": 34
    },
    "colab_type": "code",
    "id": "ZMWq_N1JQIEZ",
    "outputId": "a05efdbe-4c31-43b2-8096-1c50e958f4b0"
   },
   "outputs": [
    {
     "data": {
      "text/plain": [
       "'2011-01-29'"
      ]
     },
     "execution_count": 30,
     "metadata": {
      "tags": []
     },
     "output_type": "execute_result"
    }
   ],
   "source": [
    "proph_df.ds.min()"
   ]
  },
  {
   "cell_type": "code",
   "execution_count": 0,
   "metadata": {
    "colab": {},
    "colab_type": "code",
    "id": "L6Y809kzTevP"
   },
   "outputs": [],
   "source": [
    "header = [\"id\"]\n",
    "for i in range(1, 29):\n",
    "  header.append(\"F\" + str(i))"
   ]
  },
  {
   "cell_type": "code",
   "execution_count": 0,
   "metadata": {
    "colab": {},
    "colab_type": "code",
    "id": "8lx4GN1_TbyM"
   },
   "outputs": [],
   "source": [
    "proph_op_df = pd.DataFrame(columns=header)"
   ]
  },
  {
   "cell_type": "code",
   "execution_count": 33,
   "metadata": {
    "colab": {
     "base_uri": "https://localhost:8080/",
     "height": 595
    },
    "colab_type": "code",
    "id": "1olXDoCFWSIP",
    "outputId": "6fa7e96d-197b-47e0-ffd2-1d261b1d34a2"
   },
   "outputs": [
    {
     "name": "stdout",
     "output_type": "stream",
     "text": [
      "<class 'pandas.core.frame.DataFrame'>\n",
      "Index: 0 entries\n",
      "Data columns (total 29 columns):\n",
      "id     0 non-null object\n",
      "F1     0 non-null object\n",
      "F2     0 non-null object\n",
      "F3     0 non-null object\n",
      "F4     0 non-null object\n",
      "F5     0 non-null object\n",
      "F6     0 non-null object\n",
      "F7     0 non-null object\n",
      "F8     0 non-null object\n",
      "F9     0 non-null object\n",
      "F10    0 non-null object\n",
      "F11    0 non-null object\n",
      "F12    0 non-null object\n",
      "F13    0 non-null object\n",
      "F14    0 non-null object\n",
      "F15    0 non-null object\n",
      "F16    0 non-null object\n",
      "F17    0 non-null object\n",
      "F18    0 non-null object\n",
      "F19    0 non-null object\n",
      "F20    0 non-null object\n",
      "F21    0 non-null object\n",
      "F22    0 non-null object\n",
      "F23    0 non-null object\n",
      "F24    0 non-null object\n",
      "F25    0 non-null object\n",
      "F26    0 non-null object\n",
      "F27    0 non-null object\n",
      "F28    0 non-null object\n",
      "dtypes: object(29)\n",
      "memory usage: 0.0+ bytes\n"
     ]
    }
   ],
   "source": [
    "proph_op_df.info()"
   ]
  },
  {
   "cell_type": "code",
   "execution_count": 0,
   "metadata": {
    "colab": {
     "base_uri": "https://localhost:8080/",
     "height": 1000
    },
    "colab_type": "code",
    "id": "s7IWvWHsLNSR",
    "outputId": "45dd7b84-ea49-48b0-ae6e-99a696fda13b"
   },
   "outputs": [
    {
     "name": "stderr",
     "output_type": "stream",
     "text": [
      "/usr/local/lib/python3.6/dist-packages/pandas/core/frame.py:7138: FutureWarning:\n",
      "\n",
      "Sorting because non-concatenation axis is not aligned. A future version\n",
      "of pandas will change to not sort by default.\n",
      "\n",
      "To accept the future behavior, pass 'sort=False'.\n",
      "\n",
      "To retain the current behavior and silence the warning, pass 'sort=True'.\n",
      "\n",
      "\n",
      "INFO:fbprophet:Disabling daily seasonality. Run prophet with daily_seasonality=True to override this.\n"
     ]
    },
    {
     "name": "stdout",
     "output_type": "stream",
     "text": [
      "['FOODS_1_001_CA_1_validation', 0.6660789983355044, 0.6131423960614486, 0.7004677690130594, 0.6309952715475349, 0.9104260989705524, 0.9914594308754177, 0.9513484207688503, 0.793665853393517, 0.6906434103695368, 0.7863974751672552, 0.710553679895195, 0.9895114998812826, 1.023387131631838, 1.0773443910370042, 0.7656850607009036, 0.7187478060989102, 0.7421031851233928, 0.6691021918297312, 0.8982209902346775, 1.0723493490361498, 0.9716223382188477, 0.716352206346119, 0.6599739020904415, 0.7431539569534663, 0.6690850352168074, 0.9437282715419115, 1.0200400640522296, 0.973383383356814]\n",
      "                            id        F1        F2  ...       F26      F27       F28\n",
      "0  FOODS_1_001_CA_1_validation  0.666079  0.613142  ...  0.943728  1.02004  0.973383\n",
      "\n",
      "[1 rows x 29 columns]\n"
     ]
    },
    {
     "name": "stderr",
     "output_type": "stream",
     "text": [
      "/usr/local/lib/python3.6/dist-packages/pandas/core/frame.py:7138: FutureWarning:\n",
      "\n",
      "Sorting because non-concatenation axis is not aligned. A future version\n",
      "of pandas will change to not sort by default.\n",
      "\n",
      "To accept the future behavior, pass 'sort=False'.\n",
      "\n",
      "To retain the current behavior and silence the warning, pass 'sort=True'.\n",
      "\n",
      "\n",
      "INFO:fbprophet:Disabling daily seasonality. Run prophet with daily_seasonality=True to override this.\n"
     ]
    },
    {
     "name": "stdout",
     "output_type": "stream",
     "text": [
      "['FOODS_1_002_CA_1_validation', 0.6644671656233495, 0.5560354299852397, 0.6432940880174857, 0.6703698428138427, 0.6624111586625352, 0.7272951243669388, 0.6818521165605468, 0.7988389336053404, 0.616031030939838, 0.6715388307404906, 0.6959156818707128, 0.670294459997595, 0.644602083609957, 0.7765695684327356, 0.6879719314928849, 0.5344336456012706, 0.6113510544618732, 0.610517603107626, 0.5036906213381191, 0.6771978013578261, 0.6165443565589882, 0.5715601260216593, 0.4357157400005437, 0.4991955170582742, 0.5066923726975199, 0.4838287661490471, 0.5388505042433182, 0.5515012320177428]\n",
      "                            id        F1  ...       F27       F28\n",
      "0  FOODS_1_001_CA_1_validation  0.666079  ...  1.020040  0.973383\n",
      "1  FOODS_1_002_CA_1_validation  0.664467  ...  0.538851  0.551501\n",
      "\n",
      "[2 rows x 29 columns]\n"
     ]
    },
    {
     "name": "stderr",
     "output_type": "stream",
     "text": [
      "INFO:fbprophet:Disabling daily seasonality. Run prophet with daily_seasonality=True to override this.\n"
     ]
    },
    {
     "name": "stdout",
     "output_type": "stream",
     "text": [
      "['FOODS_1_003_CA_1_validation', 0.9011290260590689, 0.6686358985328439, 0.682853339452546, 0.8534733929488834, 0.814463908493493, 1.0491506953105825, 0.9556475995345273, 1.0228191508330222, 0.8139811830782313, 0.8220544483696133, 0.9719786542450667, 0.9159216944019093, 1.1705072937196206, 0.8964255425957058, 1.0467564417197317, 0.7887583148219371, 0.7074052200576892, 0.8415461743483896, 0.8036542794603773, 0.9282638162148722, 0.74171985638031, 0.8502432426756484, 0.5742001499822945, 0.5450435324145967, 0.6734267607813148, 0.5942628870313216, 0.7917815661872363, 0.5767477338527165]\n",
      "                            id        F1  ...       F27       F28\n",
      "0  FOODS_1_001_CA_1_validation  0.666079  ...  1.020040  0.973383\n",
      "1  FOODS_1_002_CA_1_validation  0.664467  ...  0.538851  0.551501\n",
      "2  FOODS_1_003_CA_1_validation  0.901129  ...  0.791782  0.576748\n",
      "\n",
      "[3 rows x 29 columns]\n"
     ]
    },
    {
     "name": "stderr",
     "output_type": "stream",
     "text": [
      "INFO:fbprophet:Disabling daily seasonality. Run prophet with daily_seasonality=True to override this.\n"
     ]
    },
    {
     "name": "stdout",
     "output_type": "stream",
     "text": [
      "['FOODS_1_004_CA_1_validation', 1.2500987297425832, 1.3229407497249914, 2.225461906768241, 2.751537178659562, 4.559787202075169, 6.597640105205537, 6.4441807718034285, 3.388074297091582, 3.523573121348824, 4.775392739877935, 4.810628555993711, 6.498257027632016, 8.867421528830768, 7.118560605315885, 4.507405680839186, 4.764437971517478, 4.213220346647273, 4.438975575180278, 6.398855156541517, 7.532073720168588, 6.234498227752656, 3.78277182994045, 3.49475422832756, 4.016801872069863, 4.153300795898142, 5.573218677526425, 7.233897056781495, 5.857940153503296]\n",
      "                            id        F1  ...       F27       F28\n",
      "0  FOODS_1_001_CA_1_validation  0.666079  ...  1.020040  0.973383\n",
      "1  FOODS_1_002_CA_1_validation  0.664467  ...  0.538851  0.551501\n",
      "2  FOODS_1_003_CA_1_validation  0.901129  ...  0.791782  0.576748\n",
      "3  FOODS_1_004_CA_1_validation  1.250099  ...  7.233897  5.857940\n",
      "\n",
      "[4 rows x 29 columns]\n"
     ]
    },
    {
     "name": "stderr",
     "output_type": "stream",
     "text": [
      "INFO:fbprophet:Disabling daily seasonality. Run prophet with daily_seasonality=True to override this.\n"
     ]
    },
    {
     "name": "stdout",
     "output_type": "stream",
     "text": [
      "['FOODS_1_005_CA_1_validation', 1.2236315950005732, 1.048017067762516, 1.0907376801706947, 1.24020379627206, 1.263208047088121, 1.5589630192394677, 1.3948624005503938, 1.0963800738575022, 1.0235072499361517, 0.8138393473272263, 1.1633043129475882, 1.1596720503529123, 1.3301331693618783, 1.218746982522171, 1.0522303254057335, 0.603433643854413, 1.06098181834611, 1.1669695574911287, 1.050297945956446, 1.2807205262924206, 1.3178248940002364, 0.7935153790002167, 0.5709343407178772, 0.571316381715687, 0.6838378556789663, 0.6759439801510154, 0.9473739840708734, 0.8722901195030146]\n",
      "                            id        F1  ...       F27       F28\n",
      "0  FOODS_1_001_CA_1_validation  0.666079  ...  1.020040  0.973383\n",
      "1  FOODS_1_002_CA_1_validation  0.664467  ...  0.538851  0.551501\n",
      "2  FOODS_1_003_CA_1_validation  0.901129  ...  0.791782  0.576748\n",
      "3  FOODS_1_004_CA_1_validation  1.250099  ...  7.233897  5.857940\n",
      "4  FOODS_1_005_CA_1_validation  1.223632  ...  0.947374  0.872290\n",
      "\n",
      "[5 rows x 29 columns]\n"
     ]
    },
    {
     "name": "stderr",
     "output_type": "stream",
     "text": [
      "INFO:fbprophet:Disabling daily seasonality. Run prophet with daily_seasonality=True to override this.\n"
     ]
    },
    {
     "name": "stdout",
     "output_type": "stream",
     "text": [
      "['FOODS_1_006_CA_1_validation', 1.4428662563814738, 1.7419606686175049, 1.8519758968864963, 1.7829176503197592, 1.9780265195777458, 2.0720337513603617, 1.9071774992907538, 1.6981904228928584, 2.0917680929778384, 1.905250669170722, 2.058252769093771, 2.2181899568494994, 2.15250333009867, 1.8327446877636704, 1.7354549368065157, 1.7187173935129503, 2.0463398942580318, 1.9321666064864353, 1.9627494443065396, 2.023622539160501, 1.8500409115578242, 1.3775347032389347, 1.6403490670512464, 1.723773198003626, 1.6384370067145044, 1.8279092456082158, 1.9269436746374304, 1.6561014359490678]\n",
      "                            id        F1  ...       F27       F28\n",
      "1  FOODS_1_002_CA_1_validation  0.664467  ...  0.538851  0.551501\n",
      "2  FOODS_1_003_CA_1_validation  0.901129  ...  0.791782  0.576748\n",
      "3  FOODS_1_004_CA_1_validation  1.250099  ...  7.233897  5.857940\n",
      "4  FOODS_1_005_CA_1_validation  1.223632  ...  0.947374  0.872290\n",
      "5  FOODS_1_006_CA_1_validation  1.442866  ...  1.926944  1.656101\n",
      "\n",
      "[5 rows x 29 columns]\n"
     ]
    },
    {
     "name": "stderr",
     "output_type": "stream",
     "text": [
      "INFO:fbprophet:Disabling daily seasonality. Run prophet with daily_seasonality=True to override this.\n"
     ]
    },
    {
     "name": "stdout",
     "output_type": "stream",
     "text": [
      "['FOODS_1_008_CA_1_validation', 0.06773361124273694, 0.07918245747769734, 0.1022903850923847, 0.18851469197884363, 0.23897501020759532, 0.2333750383116776, 0.16520691980533972, 0.10623700117389931, 0.11108700944712405, 0.16996976927642785, 0.2223368050177413, 0.2718496542345219, 0.2887491962758753, 0.18941980092862126, 0.13180070045701273, 0.17526430323375444, 0.13764623054293443, 0.21778974182504238, 0.285123329613571, 0.25520939582831054, 0.1542661868548578, 0.13321143686128864, 0.135580165764657, 0.14790470314955004, 0.2219446423261862, 0.25914023453494606, 0.23952736960135065, 0.14410653150984]\n",
      "                            id        F1  ...       F27       F28\n",
      "2  FOODS_1_003_CA_1_validation  0.901129  ...  0.791782  0.576748\n",
      "3  FOODS_1_004_CA_1_validation  1.250099  ...  7.233897  5.857940\n",
      "4  FOODS_1_005_CA_1_validation  1.223632  ...  0.947374  0.872290\n",
      "5  FOODS_1_006_CA_1_validation  1.442866  ...  1.926944  1.656101\n",
      "6  FOODS_1_008_CA_1_validation  0.067734  ...  0.239527  0.144107\n",
      "\n",
      "[5 rows x 29 columns]\n"
     ]
    },
    {
     "name": "stderr",
     "output_type": "stream",
     "text": [
      "INFO:fbprophet:Disabling daily seasonality. Run prophet with daily_seasonality=True to override this.\n"
     ]
    },
    {
     "name": "stdout",
     "output_type": "stream",
     "text": [
      "['FOODS_1_009_CA_1_validation', 0.4634684294361266, 0.5436078508740876, 0.4869397240962212, 0.4821992417957788, 0.518208368213328, 0.8109461783769445, 0.7270133499013118, 0.4927597234485273, 0.6036079046764187, 0.4778450362924211, 0.5488421614366679, 0.5863702965723749, 0.8321586140116084, 0.7591145673011219, 0.5270165090501999, 0.5357488630180839, 0.5679179572118063, 0.5607897633530017, 0.5453679932165874, 0.8536349987953933, 0.7786889154127148, 0.441648311801489, 0.5175787446270548, 0.45531969398077365, 0.4438966274071649, 0.47247407304709615, 0.7574157874035397, 0.6562230435260412]\n",
      "                            id        F1  ...       F27       F28\n",
      "3  FOODS_1_004_CA_1_validation  1.250099  ...  7.233897  5.857940\n",
      "4  FOODS_1_005_CA_1_validation  1.223632  ...  0.947374  0.872290\n",
      "5  FOODS_1_006_CA_1_validation  1.442866  ...  1.926944  1.656101\n",
      "6  FOODS_1_008_CA_1_validation  0.067734  ...  0.239527  0.144107\n",
      "7  FOODS_1_009_CA_1_validation  0.463468  ...  0.757416  0.656223\n",
      "\n",
      "[5 rows x 29 columns]\n"
     ]
    },
    {
     "name": "stderr",
     "output_type": "stream",
     "text": [
      "INFO:fbprophet:Disabling daily seasonality. Run prophet with daily_seasonality=True to override this.\n"
     ]
    },
    {
     "name": "stdout",
     "output_type": "stream",
     "text": [
      "['FOODS_1_010_CA_1_validation', 0.2171522346711376, 0.24363014287573412, 0.22709742684290196, 0.280101006480662, 0.20829062050311065, 0.29142643540412905, 0.2216746369902199, 0.17926958314835423, 0.2620828653006899, 0.21047764666569463, 0.29906613437945795, 0.22687992041846083, 0.3291553886123658, 0.15953948021920236, 0.2464839799489424, 0.2365195881054647, 0.28614042795249695, 0.33705090310483826, 0.28258103160391723, 0.2873584722165133, 0.24648899955828713, 0.24050532963638474, 0.264396328770757, 0.2449595358725231, 0.2948524898073468, 0.2198427843605945, 0.29981140362045755, 0.2037233955513319]\n",
      "                            id        F1  ...       F27       F28\n",
      "4  FOODS_1_005_CA_1_validation  1.223632  ...  0.947374  0.872290\n",
      "5  FOODS_1_006_CA_1_validation  1.442866  ...  1.926944  1.656101\n",
      "6  FOODS_1_008_CA_1_validation  0.067734  ...  0.239527  0.144107\n",
      "7  FOODS_1_009_CA_1_validation  0.463468  ...  0.757416  0.656223\n",
      "8  FOODS_1_010_CA_1_validation  0.217152  ...  0.299811  0.203723\n",
      "\n",
      "[5 rows x 29 columns]\n"
     ]
    },
    {
     "name": "stderr",
     "output_type": "stream",
     "text": [
      "INFO:fbprophet:Disabling daily seasonality. Run prophet with daily_seasonality=True to override this.\n"
     ]
    },
    {
     "name": "stdout",
     "output_type": "stream",
     "text": [
      "['FOODS_1_011_CA_1_validation', 0.5678848087773927, 0.7346342809639206, 0.5664694483299617, 0.6904015017048684, 0.8093709620397251, 0.9992393710572636, 0.6266729881980067, 0.5574062523847634, 0.7069365151015936, 0.5402321157217866, 0.6433298622219433, 0.7528599212784035, 0.9370699012947301, 0.5857722194016962, 0.49686918270828795, 0.6595251419257743, 0.4828120651458176, 0.5938861320306064, 0.7049582955917288, 0.8903429037265602, 0.5276579405878274, 0.4602475047358857, 0.615420258398571, 0.43767546088100306, 0.5542324138314026, 0.6681617239437463, 0.8553765447346785, 0.5072336538673972]\n",
      "                            id        F1  ...       F27       F28\n",
      "5  FOODS_1_006_CA_1_validation  1.442866  ...  1.926944  1.656101\n",
      "6  FOODS_1_008_CA_1_validation  0.067734  ...  0.239527  0.144107\n",
      "7  FOODS_1_009_CA_1_validation  0.463468  ...  0.757416  0.656223\n",
      "8  FOODS_1_010_CA_1_validation  0.217152  ...  0.299811  0.203723\n",
      "9  FOODS_1_011_CA_1_validation  0.567885  ...  0.855377  0.507234\n",
      "\n",
      "[5 rows x 29 columns]\n"
     ]
    },
    {
     "name": "stderr",
     "output_type": "stream",
     "text": [
      "INFO:fbprophet:Disabling daily seasonality. Run prophet with daily_seasonality=True to override this.\n"
     ]
    },
    {
     "name": "stdout",
     "output_type": "stream",
     "text": [
      "['FOODS_1_012_CA_1_validation', 2.814242531274431, 2.6246161771455983, 2.469553237559739, 3.0927108494645585, 3.3184814643134466, 3.6035847786868476, 3.4426783467011113, 2.9284177106713654, 2.8870339204556594, 2.7590307451272134, 3.3591397919607786, 3.5785191508923373, 4.012246178889123, 3.3506522714303557, 3.250593198920154, 3.0642329585667785, 2.8129480957232085, 3.3975492204889846, 3.736427421999719, 3.666103553193869, 3.3966417282097834, 3.1341269638816684, 2.87947619061581, 2.650983308643977, 3.1936069349836673, 3.3332639231659753, 3.528391430932701, 3.09209254496279]\n",
      "                             id        F1  ...       F27       F28\n",
      "6   FOODS_1_008_CA_1_validation  0.067734  ...  0.239527  0.144107\n",
      "7   FOODS_1_009_CA_1_validation  0.463468  ...  0.757416  0.656223\n",
      "8   FOODS_1_010_CA_1_validation  0.217152  ...  0.299811  0.203723\n",
      "9   FOODS_1_011_CA_1_validation  0.567885  ...  0.855377  0.507234\n",
      "10  FOODS_1_012_CA_1_validation  2.814243  ...  3.528391  3.092093\n",
      "\n",
      "[5 rows x 29 columns]\n"
     ]
    },
    {
     "name": "stderr",
     "output_type": "stream",
     "text": [
      "INFO:fbprophet:Disabling daily seasonality. Run prophet with daily_seasonality=True to override this.\n"
     ]
    },
    {
     "name": "stdout",
     "output_type": "stream",
     "text": [
      "['FOODS_1_013_CA_1_validation', 2.449328108815891, 2.4960875468637624, 2.5499946837471636, 2.239532929067507, 2.6207539830907183, 2.4576626556523977, 2.4168615470508517, 2.5979251536885113, 2.580372972733577, 2.638967498482752, 2.3094388485946293, 2.6850697842465454, 2.4740745131556316, 2.4806855315208516, 2.5051229455441817, 2.556867441500197, 2.4880623326541405, 2.1757694933345673, 2.5146107439161067, 2.4558179514376888, 2.3173516976859854, 2.4224136120291657, 2.4755381678846713, 2.539587823437337, 2.243034016202324, 2.64182113750089, 2.499749917436796, 2.433489214720439]\n",
      "                             id        F1  ...       F27       F28\n",
      "7   FOODS_1_009_CA_1_validation  0.463468  ...  0.757416  0.656223\n",
      "8   FOODS_1_010_CA_1_validation  0.217152  ...  0.299811  0.203723\n",
      "9   FOODS_1_011_CA_1_validation  0.567885  ...  0.855377  0.507234\n",
      "10  FOODS_1_012_CA_1_validation  2.814243  ...  3.528391  3.092093\n",
      "11  FOODS_1_013_CA_1_validation  2.449328  ...  2.499750  2.433489\n",
      "\n",
      "[5 rows x 29 columns]\n"
     ]
    },
    {
     "name": "stderr",
     "output_type": "stream",
     "text": [
      "INFO:fbprophet:Disabling daily seasonality. Run prophet with daily_seasonality=True to override this.\n"
     ]
    },
    {
     "name": "stdout",
     "output_type": "stream",
     "text": [
      "['FOODS_1_014_CA_1_validation', 1.3179762514454627, 1.2307871443092162, 1.2280967309064617, 1.4408821280865647, 1.351190447193365, 1.4988276974196433, 1.4535781197352586, 1.4695500903474934, 1.3133269123096634, 1.3143585164255067, 1.5305136487846283, 1.439830637453512, 1.505211580914318, 1.7465086630209057, 1.5206945267334848, 1.4278664954593414, 1.4785198736689562, 1.6771026410934768, 1.4904950702191904, 1.7706130346867628, 1.7606465557142195, 1.5912344627101098, 1.4809725418767326, 1.4510762513441466, 1.633193072483961, 1.5101255199987582, 1.6225001221811624, 1.6792924986030506]\n",
      "                             id        F1  ...       F27       F28\n",
      "8   FOODS_1_010_CA_1_validation  0.217152  ...  0.299811  0.203723\n",
      "9   FOODS_1_011_CA_1_validation  0.567885  ...  0.855377  0.507234\n",
      "10  FOODS_1_012_CA_1_validation  2.814243  ...  3.528391  3.092093\n",
      "11  FOODS_1_013_CA_1_validation  2.449328  ...  2.499750  2.433489\n",
      "12  FOODS_1_014_CA_1_validation  1.317976  ...  1.622500  1.679292\n",
      "\n",
      "[5 rows x 29 columns]\n"
     ]
    },
    {
     "name": "stderr",
     "output_type": "stream",
     "text": [
      "INFO:fbprophet:Disabling daily seasonality. Run prophet with daily_seasonality=True to override this.\n"
     ]
    },
    {
     "name": "stdout",
     "output_type": "stream",
     "text": [
      "['FOODS_1_015_CA_1_validation', 0.6602360016756442, 0.4917858034001452, 0.530054275988521, 0.5267294511020724, 0.6357723077855519, 0.726921668905345, 0.750497173303384, 0.44624401973823935, 0.4017086972904359, 0.3343299304358487, 0.44316984892812905, 0.5575994636582389, 0.6703196732203471, 0.49920211183217456, 0.46433340491176966, 0.19662736232678135, 0.4132267954658444, 0.42198976286550716, 0.5591890737037392, 0.5256583240064558, 0.6225626430573644, 0.362134799065129, 0.20755975598383647, 0.26076963236110096, 0.2730752018173941, 0.39809595299714506, 0.5052744563834539, 0.480996303551415]\n",
      "                             id        F1  ...       F27       F28\n",
      "9   FOODS_1_011_CA_1_validation  0.567885  ...  0.855377  0.507234\n",
      "10  FOODS_1_012_CA_1_validation  2.814243  ...  3.528391  3.092093\n",
      "11  FOODS_1_013_CA_1_validation  2.449328  ...  2.499750  2.433489\n",
      "12  FOODS_1_014_CA_1_validation  1.317976  ...  1.622500  1.679292\n",
      "13  FOODS_1_015_CA_1_validation  0.660236  ...  0.505274  0.480996\n",
      "\n",
      "[5 rows x 29 columns]\n"
     ]
    },
    {
     "name": "stderr",
     "output_type": "stream",
     "text": [
      "INFO:fbprophet:Disabling daily seasonality. Run prophet with daily_seasonality=True to override this.\n"
     ]
    },
    {
     "name": "stdout",
     "output_type": "stream",
     "text": [
      "['FOODS_1_016_CA_1_validation', 0.68899369610615, 0.6090147557276626, 0.6757386719402504, 0.7486378617861511, 0.7691806452781942, 1.465429252480649, 0.9326732545507666, 0.7460521109317428, 0.6787422902075779, 0.7108886804474726, 0.8052203985264568, 0.8192256946462804, 1.5001385438190624, 0.9257050569897151, 0.7625783591760444, 0.6430952258395537, 0.720349066254752, 0.7829272000894815, 0.7850320877631162, 1.4627922578171266, 0.9163028692216156, 0.7058104499630007, 0.61495392443525, 0.6721103601268869, 0.73688290190085, 0.7508371538122189, 1.4420952204199184, 0.8804087216379175]\n",
      "                             id        F1  ...       F27       F28\n",
      "10  FOODS_1_012_CA_1_validation  2.814243  ...  3.528391  3.092093\n",
      "11  FOODS_1_013_CA_1_validation  2.449328  ...  2.499750  2.433489\n",
      "12  FOODS_1_014_CA_1_validation  1.317976  ...  1.622500  1.679292\n",
      "13  FOODS_1_015_CA_1_validation  0.660236  ...  0.505274  0.480996\n",
      "14  FOODS_1_016_CA_1_validation  0.688994  ...  1.442095  0.880409\n",
      "\n",
      "[5 rows x 29 columns]\n"
     ]
    },
    {
     "name": "stderr",
     "output_type": "stream",
     "text": [
      "INFO:fbprophet:Disabling daily seasonality. Run prophet with daily_seasonality=True to override this.\n"
     ]
    },
    {
     "name": "stdout",
     "output_type": "stream",
     "text": [
      "['FOODS_1_017_CA_1_validation', 0.7582884686852519, 0.6632526335270896, 0.5552859068928037, 0.5540995582432241, 0.7406985286323082, 0.9017872164538303, 0.9749608122093634, 0.8260931560384372, 0.7201188954237258, 0.6130150935174493, 0.6174090900765996, 0.8060702875034728, 0.9504427988974917, 1.021479719611127, 0.8239848648946458, 0.7299550667055332, 0.5759648655910257, 0.5762244563458804, 0.7452427486548305, 0.939219303646015, 0.9599457533699705, 0.7733781554303664, 0.6806881639404392, 0.5741645951034499, 0.5736601031889837, 0.7603349435126873, 0.9210558505360247, 0.9575363163717814]\n",
      "                             id        F1  ...       F27       F28\n",
      "11  FOODS_1_013_CA_1_validation  2.449328  ...  2.499750  2.433489\n",
      "12  FOODS_1_014_CA_1_validation  1.317976  ...  1.622500  1.679292\n",
      "13  FOODS_1_015_CA_1_validation  0.660236  ...  0.505274  0.480996\n",
      "14  FOODS_1_016_CA_1_validation  0.688994  ...  1.442095  0.880409\n",
      "15  FOODS_1_017_CA_1_validation  0.758288  ...  0.921056  0.957536\n",
      "\n",
      "[5 rows x 29 columns]\n"
     ]
    },
    {
     "name": "stderr",
     "output_type": "stream",
     "text": [
      "INFO:fbprophet:Disabling daily seasonality. Run prophet with daily_seasonality=True to override this.\n"
     ]
    },
    {
     "name": "stdout",
     "output_type": "stream",
     "text": [
      "['FOODS_1_018_CA_1_validation', 6.5833293941089615, 5.504412869179103, 5.372241158392676, 4.980104804406382, 8.060956918936851, 10.685409576320378, 8.365089723773602, 5.879002527278484, 4.7983111261475955, 4.798248709475747, 4.48983412624284, 7.668991834635087, 10.289761069309892, 9.046783375816315, 6.301807803334468, 5.400909000940036, 6.063981930735969, 5.782556592188211, 8.853665962685508, 11.73471277026637, 10.112548137400534, 7.422834714835754, 6.399281825734368, 6.283063180541239, 5.865329269793548, 8.877726919565792, 11.390457231763609, 9.711261682192296]\n",
      "                             id        F1  ...        F27       F28\n",
      "12  FOODS_1_014_CA_1_validation  1.317976  ...   1.622500  1.679292\n",
      "13  FOODS_1_015_CA_1_validation  0.660236  ...   0.505274  0.480996\n",
      "14  FOODS_1_016_CA_1_validation  0.688994  ...   1.442095  0.880409\n",
      "15  FOODS_1_017_CA_1_validation  0.758288  ...   0.921056  0.957536\n",
      "16  FOODS_1_018_CA_1_validation  6.583329  ...  11.390457  9.711262\n",
      "\n",
      "[5 rows x 29 columns]\n"
     ]
    },
    {
     "name": "stderr",
     "output_type": "stream",
     "text": [
      "INFO:fbprophet:Disabling daily seasonality. Run prophet with daily_seasonality=True to override this.\n"
     ]
    },
    {
     "name": "stdout",
     "output_type": "stream",
     "text": [
      "['FOODS_1_019_CA_1_validation', 3.767016937406148, 3.456041598593147, 3.481675784772626, 3.6913171163216707, 4.786040896126494, 5.995796710941095, 3.991855173223212, 2.6859200101345713, 2.6076838923853343, 2.884808877284529, 2.9444152420197662, 4.090027633798778, 5.734392262361466, 3.3241403403338277, 2.817056008507693, 2.802920251774928, 3.0177630008771112, 3.3209026740908394, 4.891249713807872, 5.622148407699257, 3.9990371671092997, 3.544001261978544, 3.3613577290158307, 3.5128145975368237, 3.845210971870533, 5.059173742932628, 6.38430702958175, 4.603517950778229]\n",
      "                             id        F1  ...        F27       F28\n",
      "13  FOODS_1_015_CA_1_validation  0.660236  ...   0.505274  0.480996\n",
      "14  FOODS_1_016_CA_1_validation  0.688994  ...   1.442095  0.880409\n",
      "15  FOODS_1_017_CA_1_validation  0.758288  ...   0.921056  0.957536\n",
      "16  FOODS_1_018_CA_1_validation  6.583329  ...  11.390457  9.711262\n",
      "17  FOODS_1_019_CA_1_validation  3.767017  ...   6.384307  4.603518\n",
      "\n",
      "[5 rows x 29 columns]\n"
     ]
    },
    {
     "name": "stderr",
     "output_type": "stream",
     "text": [
      "INFO:fbprophet:Disabling daily seasonality. Run prophet with daily_seasonality=True to override this.\n"
     ]
    },
    {
     "name": "stdout",
     "output_type": "stream",
     "text": [
      "['FOODS_1_020_CA_1_validation', 0.7946236728543107, 0.8606184120792455, 0.8757388271298298, 0.9340847669270705, 1.0287364960946266, 1.20275368790711, 1.0713922360494201, 0.866474140368007, 0.8817581975082845, 0.8560095632887794, 0.9479594304141259, 1.038957955127111, 1.1250731228060395, 1.1196705279847095, 0.7327098778492553, 0.7535676756244047, 0.7498388692848483, 0.8003209397031559, 0.8029832907491609, 1.1003345543298353, 0.9131986564087093, 0.53268151058506, 0.5880621739486427, 0.5933297166035197, 0.6426998785674071, 0.7293957792695243, 0.8966425917852181, 0.758625591404716]\n",
      "                             id        F1  ...        F27       F28\n",
      "14  FOODS_1_016_CA_1_validation  0.688994  ...   1.442095  0.880409\n",
      "15  FOODS_1_017_CA_1_validation  0.758288  ...   0.921056  0.957536\n",
      "16  FOODS_1_018_CA_1_validation  6.583329  ...  11.390457  9.711262\n",
      "17  FOODS_1_019_CA_1_validation  3.767017  ...   6.384307  4.603518\n",
      "18  FOODS_1_020_CA_1_validation  0.794624  ...   0.896643  0.758626\n",
      "\n",
      "[5 rows x 29 columns]\n"
     ]
    },
    {
     "name": "stderr",
     "output_type": "stream",
     "text": [
      "INFO:fbprophet:Disabling daily seasonality. Run prophet with daily_seasonality=True to override this.\n"
     ]
    },
    {
     "name": "stdout",
     "output_type": "stream",
     "text": [
      "['FOODS_1_021_CA_1_validation', 2.0882808619081548, 1.875726364595498, 1.9784566374703223, 2.1199319874171643, 2.46018258729303, 3.053609704273546, 2.096605912399557, 1.5831335969888114, 1.483401968893097, 1.4425813373953265, 1.6128467661974657, 1.8991883434858234, 2.5285806784351506, 1.240898825945588, 1.1168615870661958, 0.7270593291023428, 0.9750071065735555, 1.0419080854232403, 1.404768038313926, 1.6894251897471815, 0.8387871529228668, 0.47452986984580914, 0.19535432989936563, 0.24747693893161182, 0.35550871409207474, 0.6803320702202589, 1.2768792701012046, 0.31413679266264927]\n",
      "                             id        F1  ...        F27       F28\n",
      "15  FOODS_1_017_CA_1_validation  0.758288  ...   0.921056  0.957536\n",
      "16  FOODS_1_018_CA_1_validation  6.583329  ...  11.390457  9.711262\n",
      "17  FOODS_1_019_CA_1_validation  3.767017  ...   6.384307  4.603518\n",
      "18  FOODS_1_020_CA_1_validation  0.794624  ...   0.896643  0.758626\n",
      "19  FOODS_1_021_CA_1_validation  2.088281  ...   1.276879  0.314137\n",
      "\n",
      "[5 rows x 29 columns]\n"
     ]
    },
    {
     "name": "stderr",
     "output_type": "stream",
     "text": [
      "INFO:fbprophet:Disabling daily seasonality. Run prophet with daily_seasonality=True to override this.\n"
     ]
    },
    {
     "name": "stdout",
     "output_type": "stream",
     "text": [
      "['FOODS_1_022_CA_1_validation', 0.08967849012148041, 0.0871912417549692, 0.10260384820729465, 0.09883124573810825, 0.11240704303806959, 0.10970958420387074, 0.083687571670035, 0.15982290743037034, 0.13014705243961144, 0.11015973835113055, 0.12796360816583519, 0.13471322385314172, 0.07644628623723537, 0.1298809531245862, 0.11041249687341725, 0.06777005709617043, 0.09627465354550506, 0.08228548846003887, 0.03770750617973154, 0.09662113044483087, 0.059800220825732, 0.033093023097041964, 0.020774848341643268, 0.02794160232306321, 0.017688648287539382, 0.026691386285520743, 0.02142772700485085, 0.01102749922692177]\n",
      "                             id        F1  ...        F27       F28\n",
      "16  FOODS_1_018_CA_1_validation  6.583329  ...  11.390457  9.711262\n",
      "17  FOODS_1_019_CA_1_validation  3.767017  ...   6.384307  4.603518\n",
      "18  FOODS_1_020_CA_1_validation  0.794624  ...   0.896643  0.758626\n",
      "19  FOODS_1_021_CA_1_validation  2.088281  ...   1.276879  0.314137\n",
      "20  FOODS_1_022_CA_1_validation  0.089678  ...   0.021428  0.011027\n",
      "\n",
      "[5 rows x 29 columns]\n"
     ]
    },
    {
     "name": "stderr",
     "output_type": "stream",
     "text": [
      "INFO:fbprophet:Disabling daily seasonality. Run prophet with daily_seasonality=True to override this.\n"
     ]
    },
    {
     "name": "stdout",
     "output_type": "stream",
     "text": [
      "['FOODS_1_023_CA_1_validation', -0.6549947888485, -0.6374210826619007, -0.7983237498371635, -0.6332637640101887, -0.43098002011123354, -0.4014446609531283, -0.551343491623165, -0.7932609789654705, -0.6947782268642715, -0.8064740257215612, -0.6806599353323604, -0.4731090865075846, -0.3175290507742149, -0.7605365083540986, -0.7238849485393093, -0.6525534591483503, -0.8734687755889387, -0.6993816518385837, -0.36784641907463156, -0.5275267780190157, -0.6954414838018032, -0.690070507503005, -0.6633494993973372, -0.8162308266850272, -0.6444765836519799, -0.43701236703792606, -0.40397639817834885, -0.6535302448682674]\n",
      "                             id        F1  ...       F27       F28\n",
      "17  FOODS_1_019_CA_1_validation  3.767017  ...  6.384307  4.603518\n",
      "18  FOODS_1_020_CA_1_validation  0.794624  ...  0.896643  0.758626\n",
      "19  FOODS_1_021_CA_1_validation  2.088281  ...  1.276879  0.314137\n",
      "20  FOODS_1_022_CA_1_validation  0.089678  ...  0.021428  0.011027\n",
      "21  FOODS_1_023_CA_1_validation -0.654995  ... -0.403976 -0.653530\n",
      "\n",
      "[5 rows x 29 columns]\n"
     ]
    },
    {
     "name": "stderr",
     "output_type": "stream",
     "text": [
      "INFO:fbprophet:Disabling daily seasonality. Run prophet with daily_seasonality=True to override this.\n"
     ]
    },
    {
     "name": "stdout",
     "output_type": "stream",
     "text": [
      "['FOODS_1_024_CA_1_validation', 0.32101017483679983, 0.41312318857219965, 0.4931784103790636, 0.4627681054060655, 0.6910299143709168, 0.613328789555649, 0.1320432182901098, 0.1938222134035904, 0.21501039862832483, 0.29931100838522906, 0.26063280734526384, 0.49106208840942817, 0.36120532622942836, 0.16600104929431847, 0.05070865972295946, 0.1545773074616874, 0.3282228378245501, 0.3095116884362079, 0.4956195870858059, 0.5563944472704723, 0.18701580633120174, 0.15479397739046574, 0.2605037347686999, 0.35664892893697553, 0.3441248029900482, 0.5913551616423189, 0.5329981844040881, 0.22846804116208475]\n",
      "                             id        F1  ...       F27       F28\n",
      "18  FOODS_1_020_CA_1_validation  0.794624  ...  0.896643  0.758626\n",
      "19  FOODS_1_021_CA_1_validation  2.088281  ...  1.276879  0.314137\n",
      "20  FOODS_1_022_CA_1_validation  0.089678  ...  0.021428  0.011027\n",
      "21  FOODS_1_023_CA_1_validation -0.654995  ... -0.403976 -0.653530\n",
      "22  FOODS_1_024_CA_1_validation  0.321010  ...  0.532998  0.228468\n",
      "\n",
      "[5 rows x 29 columns]\n"
     ]
    },
    {
     "name": "stderr",
     "output_type": "stream",
     "text": [
      "INFO:fbprophet:Disabling daily seasonality. Run prophet with daily_seasonality=True to override this.\n"
     ]
    },
    {
     "name": "stdout",
     "output_type": "stream",
     "text": [
      "['FOODS_1_025_CA_1_validation', 0.6424566381239407, 0.6402078755036336, 0.5391215795877664, 0.5399433878443044, 0.6095894453363674, 0.5950200752987157, 0.684246609198361, 0.638730823951708, 0.6447882096003184, 0.4970878663779327, 0.5409129213801975, 0.6100307055450824, 0.5625985777684499, 0.6811667260356334, 0.6272313284450124, 0.581775230342748, 0.5446420788699771, 0.5503590038040462, 0.5934968353712234, 0.6100170377280909, 0.726465211555331, 0.6267114101128448, 0.6357698364217099, 0.5479413091347007, 0.563857531112504, 0.6502607662126871, 0.653881088382352, 0.7678940839606422]\n",
      "                             id        F1  ...       F27       F28\n",
      "19  FOODS_1_021_CA_1_validation  2.088281  ...  1.276879  0.314137\n",
      "20  FOODS_1_022_CA_1_validation  0.089678  ...  0.021428  0.011027\n",
      "21  FOODS_1_023_CA_1_validation -0.654995  ... -0.403976 -0.653530\n",
      "22  FOODS_1_024_CA_1_validation  0.321010  ...  0.532998  0.228468\n",
      "23  FOODS_1_025_CA_1_validation  0.642457  ...  0.653881  0.767894\n",
      "\n",
      "[5 rows x 29 columns]\n"
     ]
    },
    {
     "name": "stderr",
     "output_type": "stream",
     "text": [
      "INFO:fbprophet:Disabling daily seasonality. Run prophet with daily_seasonality=True to override this.\n"
     ]
    },
    {
     "name": "stdout",
     "output_type": "stream",
     "text": [
      "['FOODS_1_026_CA_1_validation', 0.408546650498782, 0.4821612175027139, 0.5453789598945495, 0.47122132396377325, 0.5393802220669061, 0.5847295832563792, 0.5637534324639117, 0.3531995402565823, 0.43091435602464967, 0.5046876954472068, 0.4124990165506915, 0.47886981486317065, 0.5483080634584592, 0.37959502471575607, 0.21520824046745501, 0.3023845609468512, 0.24663142371041896, 0.1763204965570495, 0.2754272044530787, 0.2958614669132823, 0.18121254986142465, 0.03355762813341473, 0.11788717047523467, 0.19486734741459122, 0.13737315221854257, 0.224893832115598, 0.2920478408167312, 0.18018291491271543]\n",
      "                             id        F1  ...       F27       F28\n",
      "20  FOODS_1_022_CA_1_validation  0.089678  ...  0.021428  0.011027\n",
      "21  FOODS_1_023_CA_1_validation -0.654995  ... -0.403976 -0.653530\n",
      "22  FOODS_1_024_CA_1_validation  0.321010  ...  0.532998  0.228468\n",
      "23  FOODS_1_025_CA_1_validation  0.642457  ...  0.653881  0.767894\n",
      "24  FOODS_1_026_CA_1_validation  0.408547  ...  0.292048  0.180183\n",
      "\n",
      "[5 rows x 29 columns]\n"
     ]
    },
    {
     "name": "stderr",
     "output_type": "stream",
     "text": [
      "INFO:fbprophet:Disabling daily seasonality. Run prophet with daily_seasonality=True to override this.\n"
     ]
    },
    {
     "name": "stdout",
     "output_type": "stream",
     "text": [
      "['FOODS_1_027_CA_1_validation', 0.7826592948048547, 0.38645471290820177, 0.5214486636703756, 0.604290666736514, 0.7528156763687387, 0.9601787803757975, 0.44490685168076866, 0.11648045389977121, -0.3156875148071732, -0.02239863662424374, -0.016630090589090152, 0.18333360220693423, 0.5054464126413281, 0.17645427667095692, -0.157372566142508, -0.3361590679035069, -0.16435249304944782, 0.03074268491599197, 0.3538831497432997, 0.6878010587765371, 0.34590631964230867, 0.2502818119812827, -0.0041421139962936615, 0.27459795688712413, 0.5004604355691895, 0.7886230871124921, 1.1296761548628085, 0.8572116756466216]\n",
      "                             id        F1  ...       F27       F28\n",
      "21  FOODS_1_023_CA_1_validation -0.654995  ... -0.403976 -0.653530\n",
      "22  FOODS_1_024_CA_1_validation  0.321010  ...  0.532998  0.228468\n",
      "23  FOODS_1_025_CA_1_validation  0.642457  ...  0.653881  0.767894\n",
      "24  FOODS_1_026_CA_1_validation  0.408547  ...  0.292048  0.180183\n",
      "25  FOODS_1_027_CA_1_validation  0.782659  ...  1.129676  0.857212\n",
      "\n",
      "[5 rows x 29 columns]\n"
     ]
    },
    {
     "name": "stderr",
     "output_type": "stream",
     "text": [
      "INFO:fbprophet:Disabling daily seasonality. Run prophet with daily_seasonality=True to override this.\n"
     ]
    },
    {
     "name": "stdout",
     "output_type": "stream",
     "text": [
      "['FOODS_1_028_CA_1_validation', 0.6683497516675316, 0.5367820846550349, 0.6089403207232695, 0.6828201172221398, 0.8358089719296822, 0.8499454656919923, 0.8572730233383136, 0.8450538527017123, 0.739353565712356, 0.6459775671883357, 0.8377998155676519, 0.9721274487783298, 0.885072307185361, 0.8515480826458471, 0.853825817296423, 0.5516210420860147, 0.7306541915710731, 0.7867930446204859, 0.8420194004147801, 0.883641959666057, 0.8822940784475941, 0.7025766435375915, 0.552556162985657, 0.6118408350030551, 0.6779030567459661, 0.8274233483451325, 0.8415802780041071, 0.7885822814979845]\n",
      "                             id        F1  ...       F27       F28\n",
      "22  FOODS_1_024_CA_1_validation  0.321010  ...  0.532998  0.228468\n",
      "23  FOODS_1_025_CA_1_validation  0.642457  ...  0.653881  0.767894\n",
      "24  FOODS_1_026_CA_1_validation  0.408547  ...  0.292048  0.180183\n",
      "25  FOODS_1_027_CA_1_validation  0.782659  ...  1.129676  0.857212\n",
      "26  FOODS_1_028_CA_1_validation  0.668350  ...  0.841580  0.788582\n",
      "\n",
      "[5 rows x 29 columns]\n"
     ]
    },
    {
     "name": "stderr",
     "output_type": "stream",
     "text": [
      "INFO:fbprophet:Disabling daily seasonality. Run prophet with daily_seasonality=True to override this.\n"
     ]
    },
    {
     "name": "stdout",
     "output_type": "stream",
     "text": [
      "['FOODS_1_029_CA_1_validation', 0.41066223635999377, 0.3688297999661545, 0.3568530867976836, 0.3876530571849677, 0.3369254505311734, 0.33666446217681634, 0.3356693686499992, 0.3736932285775954, 0.3578011766294278, 0.28230771982428904, 0.3736319095165342, 0.3231286046710009, 0.29187182917424026, 0.26869541369692945, 0.33616404637037806, 0.23455592772916703, 0.28879795620118537, 0.3254380725980981, 0.2501508122241528, 0.26294736890872106, 0.2744129885973823, 0.2607045122477492, 0.23018479777348055, 0.23173774943589565, 0.2780912664659003, 0.2447103560609212, 0.2633247346153542, 0.2543586061250931]\n",
      "                             id        F1  ...       F27       F28\n",
      "23  FOODS_1_025_CA_1_validation  0.642457  ...  0.653881  0.767894\n",
      "24  FOODS_1_026_CA_1_validation  0.408547  ...  0.292048  0.180183\n",
      "25  FOODS_1_027_CA_1_validation  0.782659  ...  1.129676  0.857212\n",
      "26  FOODS_1_028_CA_1_validation  0.668350  ...  0.841580  0.788582\n",
      "27  FOODS_1_029_CA_1_validation  0.410662  ...  0.263325  0.254359\n",
      "\n",
      "[5 rows x 29 columns]\n"
     ]
    }
   ],
   "source": [
    "grouped = proph_df.groupby('id')\n",
    "i = 0\n",
    "for g in grouped.groups:\n",
    "    group = grouped.get_group(g)\n",
    "    future_val = pd.DataFrame(future_dates, columns=[\"ds\"])\n",
    "    future_val = future_val.merge(date_map_df[1913:1941], on=\"ds\")\n",
    "    future_val['id'] = g\n",
    "    future_val['y'] = 0\n",
    "    future_val = future_val.merge(sell_prices_df, on=[\"id\", \"wm_yr_wk\"], how=\"left\")\n",
    "    group = group.fillna(group.mean())\n",
    "    future = group.append(future_val)\n",
    "    m = Prophet()\n",
    "    m.add_regressor(\"snap_CA\")\n",
    "    m.add_regressor(\"snap_TX\")\n",
    "    m.add_regressor(\"snap_WI\")\n",
    "    m.add_regressor(\"sell_price\")\n",
    "    m.fit(group)\n",
    "    future = future.drop(columns=[\"d\", \"id\", \"y\", \"wm_yr_wk\"])\n",
    "    forecast = m.predict(future)\n",
    "    res = forecast.tail(28)\n",
    "    out = [g]\n",
    "    for val in res[\"yhat\"]:\n",
    "        out.append(val)\n",
    "    print(out)\n",
    "    proph_op_df.loc[i] = out\n",
    "    i += 1\n",
    "    print(proph_op_df.tail())"
   ]
  },
  {
   "cell_type": "code",
   "execution_count": 0,
   "metadata": {
    "colab": {},
    "colab_type": "code",
    "id": "7fpJJojLcqXm"
   },
   "outputs": [],
   "source": [
    "proph_op_df.to_csv(file_name + \"_op.csv\", index=False)"
   ]
  }
 ],
 "metadata": {
  "colab": {
   "machine_shape": "hm",
   "name": "None_M5_forecasting_accuracy.ipynb",
   "provenance": []
  },
  "kernelspec": {
   "display_name": "Python 3",
   "language": "python",
   "name": "python3"
  },
  "language_info": {
   "codemirror_mode": {
    "name": "ipython",
    "version": 3
   },
   "file_extension": ".py",
   "mimetype": "text/x-python",
   "name": "python",
   "nbconvert_exporter": "python",
   "pygments_lexer": "ipython3",
   "version": "3.6.8"
  }
 },
 "nbformat": 4,
 "nbformat_minor": 1
}
